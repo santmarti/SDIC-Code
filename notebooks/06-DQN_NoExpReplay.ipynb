{
 "cells": [
  {
   "cell_type": "markdown",
   "metadata": {},
   "source": [
    "### For this notebook you need to install tensorflow and keras\n",
    "Recommended versions are: <BR>\n",
    "-tensorflow 1.15.5 <BR>\n",
    "-keras 2.3 <BR>\n",
    "They are 40x times faster than tensorflow 2.8 <BR>\n",
    "    \n",
    "How to install: <BR>\n",
    "`pip install tensorflow==1.15.5` <BR>\n",
    "`pip install keras==2.3`    "
   ]
  },
  {
   "cell_type": "code",
   "execution_count": 1,
   "metadata": {},
   "outputs": [],
   "source": [
    "import numpy as np\n",
    "import os; \n",
    "os.environ['TF_CPP_MIN_LOG_LEVEL'] = '3' \n",
    "\n",
    "from Environment import Environment, ACT_MODE, OBS_MODE\n",
    "from Plotting import plotQ"
   ]
  },
  {
   "cell_type": "code",
   "execution_count": 2,
   "metadata": {},
   "outputs": [],
   "source": [
    "class Q_function():  \n",
    "    # stores the Q_function Q(s,a) = \"future reward\" as a dictionnary:\n",
    "    # Q(s) = [ reward per action ]\n",
    "    # either as a table (or function approximation, next notebook)    \n",
    "    # stores the number of actions of the agent needed to add a new output \n",
    "\n",
    "    def __init__(self, env):       \n",
    "        self.nactions = env.action_space.n\n",
    "        self.f = {}\n",
    "        \n",
    "    def predict(self, s, a=None):\n",
    "        if s not in self.f:\n",
    "             self.f[s] = [0]*self.nactions       \n",
    "        return self.f[s] if a is None else self.f[s][a]\n",
    "    \n",
    "    def update(self, s, a, y):\n",
    "        self.f[s][a] = y\n"
   ]
  },
  {
   "cell_type": "code",
   "execution_count": 3,
   "metadata": {},
   "outputs": [],
   "source": [
    "# **************************************************************************\n",
    "# Q Approximation with Non-Linear approximators with Deep Neural Networks\n",
    "# Requires tensorflow as the neural net is defined with it\n",
    "\n",
    "class DQN_function():\n",
    "    # stores the Q_function Q(s,a) = \"future reward\" but in fact Q(s) = [ f. reward per action ]\n",
    "    # as function approximation with a Neural Network\n",
    "\n",
    "    def __init__(self, env, params_qfunc=None):\n",
    "        import tensorflow as tf\n",
    "        from keras.models import Sequential\n",
    "        if tf.version.VERSION[0] == '1':\n",
    "            from keras.optimizers import Adam\n",
    "            tf.compat.v1.logging.set_verbosity(tf.compat.v1.logging.ERROR)\n",
    "        else:\n",
    "            from tf.keras.optimizers import Adam\n",
    "            tf.logging.set_verbosity(tf.logging.ERROR)\n",
    "            \n",
    "        from keras.layers import Dense\n",
    "\n",
    "        self.learning_rate = 0.001\n",
    "        if(params_qfunc is not None):\n",
    "            if(\"learning_rate\" in params_qfunc):\n",
    "                self.learning_rate = params_qfunc[\"learning_rate\"]\n",
    "\n",
    "        obs = env.reset() \n",
    "        if env.num_agents > 1:\n",
    "            obs = obs[0]\n",
    "        \n",
    "        self.input_shape = obs.flatten().shape[0]\n",
    "\n",
    "        print(\"DQN_function init obs_space.shape\", env.observation_space.shape, \"   used: \", self.input_shape)\n",
    "        self.nactions = env.action_space.n\n",
    "\n",
    "        self.model = Sequential()\n",
    "        self.model.add(Dense(8, input_shape=(self.input_shape,), activation=\"relu\"))\n",
    "        self.model.add(Dense(16, activation=\"relu\"))\n",
    "        self.model.add(Dense(self.nactions, activation=\"linear\"))\n",
    "        self.model.compile(loss=\"mse\", optimizer=Adam(learning_rate=self.learning_rate))\n",
    "        self.model.summary()\n",
    "\n",
    "    def predict(self, s):\n",
    "        s_flat = s.flatten()\n",
    "        s_batch = np.reshape(s, [1, s_flat.shape[0]])\n",
    "        return self.model.predict(s_batch)[0]\n",
    "\n",
    "    def update(self, s, a, y):\n",
    "        s_flat = s.flatten()\n",
    "        s_batch = np.reshape(s, [1, s_flat.shape[0]])   \n",
    "        q_values = self.model.predict(s_batch)[0]       \n",
    "        q_values[a] = y\n",
    "        q_values_batch = np.reshape(q_values, [1, self.nactions])\n",
    "        self.model.fit(s_batch, q_values_batch, verbose=0)\n",
    "\n",
    "    def update_batch(self, states, targets):\n",
    "        self.model.train_on_batch(states, targets)\n",
    "\n",
    "    def size(self):\n",
    "        return 0"
   ]
  },
  {
   "cell_type": "code",
   "execution_count": 4,
   "metadata": {},
   "outputs": [],
   "source": [
    "def print_info(n, i_episode, num_episodes, epsilon, sum_rew, Q=None, steps=None):\n",
    "    if(i_episode == 0): \n",
    "        print(str(i_episode),\" Starting learning running \",num_episodes,\" episodes plotting every \", int(n),\" episodes\")  \n",
    "        return \n",
    "    if(epsilon < 0):\n",
    "        print(i_episode,\"   Mean Reward: \",sum_rew)\n",
    "    else:\n",
    "        str_steps = \"\" if steps is None else \" Steps: \"+str(steps)\n",
    "        str_Q = \"\" if Q is None else \" Q states: \"+str(Q.size())\n",
    "        print(i_episode, \" epsilon: %.1f\"%epsilon, \"   Mean Reward: %.1f\"%sum_rew, str_steps, str_Q)\n"
   ]
  },
  {
   "cell_type": "code",
   "execution_count": 5,
   "metadata": {},
   "outputs": [],
   "source": [
    "def Q_learning(env, learning_rate=0.3, discount_factor=0.9, num_episodes=5000, num_episodes_end=4000, Q_function_class=Q_function):   \n",
    "    np.random.seed()\n",
    "    env.history = {\"episode_rew\":[], \"episode_steps\":[]}\n",
    "    Q =  Q_function_class(env)\n",
    "    mean_rew, mean_steps = 0, 0\n",
    "\n",
    "    for i_episode in range(num_episodes):\n",
    "        epsilon = max(1 - (1/num_episodes_end) * i_episode, 0)        \n",
    "        state = env.reset()\n",
    "        \n",
    "        done = False\n",
    "        sum_reward, steps = 0, 0\n",
    "        while not done:\n",
    "            q_values = Q.predict(state)\n",
    "            if np.random.uniform() < epsilon:\n",
    "                action = np.random.randint(env.nactions)   # explore\n",
    "            else:\n",
    "                action = np.argmax(q_values)  # exploit\n",
    "\n",
    "            state_new, reward, done, _ = env.step(action)\n",
    "\n",
    "            sum_reward += reward\n",
    "            td_error = reward + discount_factor*np.max(Q.predict(state_new)) - q_values[action]\n",
    "            td_target = q_values[action] + learning_rate*td_error\n",
    "            Q.update(state,action,td_target)\n",
    "            state = state_new\n",
    "            steps += 1\n",
    "\n",
    "        env.history[\"episode_rew\"] += [sum_reward]\n",
    "        env.history[\"episode_steps\"] += [steps]\n",
    "        mean_rew += sum_reward\n",
    "        mean_steps += steps\n",
    "        \n",
    "        n = num_episodes / 50\n",
    "        if (i_episode+1) % n == 0:\n",
    "            print_info(n, i_episode, num_episodes, epsilon, mean_rew/n, steps=mean_steps/n, Q=Q)\n",
    "            mean_rew, mean_steps = 0, 0\n",
    "\n",
    "    env.close()\n",
    "    return Q "
   ]
  },
  {
   "cell_type": "code",
   "execution_count": 6,
   "metadata": {
    "scrolled": false
   },
   "outputs": [
    {
     "name": "stdout",
     "output_type": "stream",
     "text": [
      "Default number of agents: 1\n",
      "-allo-local-3rad-1ag Discrete Action Space with Discrete(4)\n"
     ]
    },
    {
     "data": {
      "image/png": "[encoded data removed]",
      "text/plain": [
       "<Figure size 432x288 with 1 Axes>"
      ]
     },
     "metadata": {
      "needs_background": "light"
     },
     "output_type": "display_data"
    }
   ],
   "source": [
    "conf = {\"name\": \"FinalGrid\", \"rows\": 6, \"cols\": 6,\n",
    "        \"food\": 8,\n",
    "        \"action_mode\": ACT_MODE.ALLOCENTRIC,\n",
    "        \"obs_mode\": OBS_MODE.LOCAL,\n",
    "        \"obs_radius\": 3,\n",
    "        \"term_mode\": \"empty\",\n",
    "        \"max_steps\": 50,\n",
    "        }\n",
    "\n",
    "env = Environment(conf)\n",
    "\n",
    "env.render()\n"
   ]
  },
  {
   "cell_type": "code",
   "execution_count": 7,
   "metadata": {},
   "outputs": [
    {
     "name": "stderr",
     "output_type": "stream",
     "text": [
      "Using TensorFlow backend.\n"
     ]
    },
    {
     "name": "stdout",
     "output_type": "stream",
     "text": [
      "DQN_function init obs_space.shape (1, 7, 7)    used:  49\n",
      "Model: \"sequential_1\"\n",
      "_________________________________________________________________\n",
      "Layer (type)                 Output Shape              Param #   \n",
      "=================================================================\n",
      "dense_1 (Dense)              (None, 8)                 400       \n",
      "_________________________________________________________________\n",
      "dense_2 (Dense)              (None, 16)                144       \n",
      "_________________________________________________________________\n",
      "dense_3 (Dense)              (None, 4)                 68        \n",
      "=================================================================\n",
      "Total params: 612\n",
      "Trainable params: 612\n",
      "Non-trainable params: 0\n",
      "_________________________________________________________________\n",
      "99  epsilon: 1.0    Mean Reward: 3.5  Steps: 50.0  Q states: 0\n",
      "199  epsilon: 1.0    Mean Reward: 3.5  Steps: 50.0  Q states: 0\n",
      "299  epsilon: 1.0    Mean Reward: 3.5  Steps: 49.97  Q states: 0\n",
      "399  epsilon: 1.0    Mean Reward: 3.4  Steps: 49.98  Q states: 0\n",
      "499  epsilon: 0.9    Mean Reward: 3.2  Steps: 50.0  Q states: 0\n",
      "599  epsilon: 0.9    Mean Reward: 3.4  Steps: 49.92  Q states: 0\n",
      "699  epsilon: 0.9    Mean Reward: 3.3  Steps: 49.94  Q states: 0\n",
      "799  epsilon: 0.9    Mean Reward: 3.7  Steps: 49.77  Q states: 0\n",
      "899  epsilon: 0.9    Mean Reward: 3.7  Steps: 49.84  Q states: 0\n",
      "999  epsilon: 0.9    Mean Reward: 3.6  Steps: 50.0  Q states: 0\n",
      "1099  epsilon: 0.9    Mean Reward: 3.6  Steps: 50.0  Q states: 0\n",
      "1199  epsilon: 0.9    Mean Reward: 3.9  Steps: 49.82  Q states: 0\n",
      "1299  epsilon: 0.9    Mean Reward: 3.7  Steps: 49.41  Q states: 0\n",
      "1399  epsilon: 0.8    Mean Reward: 4.2  Steps: 50.0  Q states: 0\n",
      "1499  epsilon: 0.8    Mean Reward: 4.3  Steps: 49.8  Q states: 0\n",
      "1599  epsilon: 0.8    Mean Reward: 4.0  Steps: 49.9  Q states: 0\n",
      "1699  epsilon: 0.8    Mean Reward: 4.0  Steps: 50.0  Q states: 0\n",
      "1799  epsilon: 0.8    Mean Reward: 4.0  Steps: 49.92  Q states: 0\n",
      "1899  epsilon: 0.8    Mean Reward: 4.1  Steps: 49.98  Q states: 0\n",
      "1999  epsilon: 0.8    Mean Reward: 4.3  Steps: 49.76  Q states: 0\n",
      "2099  epsilon: 0.8    Mean Reward: 4.2  Steps: 49.99  Q states: 0\n",
      "2199  epsilon: 0.8    Mean Reward: 4.2  Steps: 49.74  Q states: 0\n",
      "2299  epsilon: 0.7    Mean Reward: 4.4  Steps: 49.14  Q states: 0\n",
      "2399  epsilon: 0.7    Mean Reward: 4.8  Steps: 49.42  Q states: 0\n",
      "2499  epsilon: 0.7    Mean Reward: 4.6  Steps: 49.65  Q states: 0\n",
      "2599  epsilon: 0.7    Mean Reward: 4.7  Steps: 49.35  Q states: 0\n",
      "2699  epsilon: 0.7    Mean Reward: 4.8  Steps: 48.7  Q states: 0\n",
      "2799  epsilon: 0.7    Mean Reward: 4.9  Steps: 48.96  Q states: 0\n",
      "2899  epsilon: 0.7    Mean Reward: 4.9  Steps: 49.3  Q states: 0\n",
      "2999  epsilon: 0.7    Mean Reward: 4.5  Steps: 49.94  Q states: 0\n",
      "3099  epsilon: 0.7    Mean Reward: 4.9  Steps: 49.23  Q states: 0\n",
      "3199  epsilon: 0.6    Mean Reward: 4.7  Steps: 49.71  Q states: 0\n",
      "3299  epsilon: 0.6    Mean Reward: 4.9  Steps: 48.73  Q states: 0\n",
      "3399  epsilon: 0.6    Mean Reward: 4.9  Steps: 49.23  Q states: 0\n",
      "3499  epsilon: 0.6    Mean Reward: 4.7  Steps: 49.46  Q states: 0\n",
      "3599  epsilon: 0.6    Mean Reward: 4.8  Steps: 49.65  Q states: 0\n",
      "3699  epsilon: 0.6    Mean Reward: 4.7  Steps: 49.33  Q states: 0\n",
      "3799  epsilon: 0.6    Mean Reward: 5.0  Steps: 49.12  Q states: 0\n",
      "3899  epsilon: 0.6    Mean Reward: 4.7  Steps: 49.44  Q states: 0\n",
      "3999  epsilon: 0.6    Mean Reward: 4.0  Steps: 49.24  Q states: 0\n",
      "4099  epsilon: 0.5    Mean Reward: 4.5  Steps: 49.31  Q states: 0\n",
      "4199  epsilon: 0.5    Mean Reward: 4.6  Steps: 49.35  Q states: 0\n",
      "4299  epsilon: 0.5    Mean Reward: 4.6  Steps: 49.55  Q states: 0\n",
      "4399  epsilon: 0.5    Mean Reward: 4.9  Steps: 49.46  Q states: 0\n",
      "4499  epsilon: 0.5    Mean Reward: 4.8  Steps: 49.0  Q states: 0\n",
      "4599  epsilon: 0.5    Mean Reward: 4.9  Steps: 48.82  Q states: 0\n",
      "4699  epsilon: 0.5    Mean Reward: 4.9  Steps: 49.01  Q states: 0\n",
      "4799  epsilon: 0.5    Mean Reward: 5.3  Steps: 48.58  Q states: 0\n",
      "4899  epsilon: 0.5    Mean Reward: 5.4  Steps: 48.54  Q states: 0\n",
      "4999  epsilon: 0.4    Mean Reward: 5.2  Steps: 47.99  Q states: 0\n"
     ]
    }
   ],
   "source": [
    "params_qlearn = {\"learning_rate\":0.1, \"discount_factor\":0.95, \"num_episodes\":5000, \"num_episodes_end\":9000}\n",
    "q_func = Q_learning(env, **params_qlearn, Q_function_class=DQN_function)"
   ]
  }
 ],
 "metadata": {
  "kernelspec": {
   "display_name": "Python 3 (ipykernel)",
   "language": "python",
   "name": "python3"
  },
  "language_info": {
   "codemirror_mode": {
    "name": "ipython",
    "version": 3
   },
   "file_extension": ".py",
   "mimetype": "text/x-python",
   "name": "python",
   "nbconvert_exporter": "python",
   "pygments_lexer": "ipython3",
   "version": "3.7.11"
  }
 },
 "nbformat": 4,
 "nbformat_minor": 2
}
