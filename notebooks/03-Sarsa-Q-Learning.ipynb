{
 "cells": [
  {
   "cell_type": "code",
   "execution_count": 1,
   "metadata": {},
   "outputs": [],
   "source": [
    "import random\n",
    "import numpy as np\n",
    "import gym\n",
    "import matplotlib\n",
    "import matplotlib.pyplot as plt\n",
    "\n",
    "from insoco.Environment import Environment\n",
    "from insoco.Plotting import plotQ"
   ]
  },
  {
   "cell_type": "code",
   "execution_count": 2,
   "metadata": {
    "scrolled": true
   },
   "outputs": [
    {
     "name": "stdout",
     "output_type": "stream",
     "text": [
      "Setting default max_steps per episode: 100000\n",
      "CliffWalking--1ag Discrete Action Space with Discrete(4)\n",
      "o  o  o  o  o  o  o  o  o  o  o  o\n",
      "o  o  o  o  o  o  o  o  o  o  o  o\n",
      "o  o  o  o  o  o  o  o  o  o  o  o\n",
      "x  C  C  C  C  C  C  C  C  C  C  T\n",
      "\n"
     ]
    }
   ],
   "source": [
    "env = Environment(\"CliffWalking\")\n",
    "\n",
    "env.reset()\n",
    "env.render()\n",
    "for a in [1,1,2,2,1,1]:\n",
    "    env.step(a)"
   ]
  },
  {
   "cell_type": "code",
   "execution_count": 3,
   "metadata": {},
   "outputs": [],
   "source": [
    "def policy_random():\n",
    "    return env.action_space.sample()\n",
    "\n",
    "def policy_epsilon(state, epsilon, q_values):\n",
    "    return 0"
   ]
  },
  {
   "cell_type": "code",
   "execution_count": 54,
   "metadata": {},
   "outputs": [],
   "source": [
    "class Q_function():  \n",
    "    # stores the Q_function Q(s,a) = \"future reward\" as a dictionnary:\n",
    "    # Q(s) = [ reward per action ]\n",
    "    # either as a table (or function approximation, next notebook)    \n",
    "    # stores the number of actions of the agent needed to add a new output \n",
    "\n",
    "    def __init__(self, env):       \n",
    "        self.nactions = env.action_space.n\n",
    "        self.f = {}\n",
    "        \n",
    "    def predict(self, s, a=None):        \n",
    "        return 0\n",
    "    \n",
    "    def update(self, s, a, y):\n",
    "        pass\n"
   ]
  },
  {
   "cell_type": "code",
   "execution_count": 51,
   "metadata": {},
   "outputs": [],
   "source": [
    "def Q_learning(env, learning_rate=0.3, discount_factor=0.9, num_episodes=5000, num_episodes_end=4000):\n",
    "    epsilon_ini = 1    \n",
    "    np.random.seed() \n",
    "    \n",
    "    env.history = {\"episode_rew\":[], \"episode_steps\":[]}\n",
    "    \n",
    "    Q =  Q_function(env)\n",
    "        \n",
    "    env.close()\n",
    "    return Q "
   ]
  },
  {
   "cell_type": "code",
   "execution_count": 52,
   "metadata": {},
   "outputs": [],
   "source": [
    "params = {\"learning_rate\":0.1, \"discount_factor\":0.8, \"num_episodes\":5000, \"num_episodes_end\":4000}\n",
    "q_func = Q_learning(env, **params)\n",
    "plt.plot(env.history[\"episode_rew\"])"
   ]
  },
  {
   "cell_type": "code",
   "execution_count": 48,
   "metadata": {},
   "outputs": [],
   "source": [
    "def SARSA_learning(env, learning_rate=0.3, discount_factor=0.9, num_episodes=5000, num_episodes_end=4000):\n",
    "    epsilon_ini = 1    \n",
    "    np.random.seed() \n",
    "    env.history = {\"episode_rew\":[], \"episode_steps\":[]}\n",
    "    \n",
    "    Q =  Q_function(env)\n",
    "    \n",
    "    sum_rew_epi = 0\n",
    "        \n",
    "    env.close()\n",
    "    return Q "
   ]
  },
  {
   "cell_type": "code",
   "execution_count": 49,
   "metadata": {},
   "outputs": [],
   "source": [
    "# Careful with the discount factor for SARSA it may not converge if < 1\n",
    "# Reason being: as SARSA being on-policy and risc averse, if we act greedy with respect to reward it does not converge\n",
    "\n",
    "params = {\"learning_rate\":0.1, \"discount_factor\":0.999, \"num_episodes\":5000, \"num_episodes_end\":4000}\n",
    "q_func = SARSA_learning(env, **params)\n",
    "plt.plot(env.history[\"episode_rew\"])"
   ]
  }
 ],
 "metadata": {
  "kernelspec": {
   "display_name": "Python 3",
   "language": "python",
   "name": "python3"
  },
  "language_info": {
   "codemirror_mode": {
    "name": "ipython",
    "version": 3
   },
   "file_extension": ".py",
   "mimetype": "text/x-python",
   "name": "python",
   "nbconvert_exporter": "python",
   "pygments_lexer": "ipython3",
   "version": "3.7.4"
  }
 },
 "nbformat": 4,
 "nbformat_minor": 2
}
