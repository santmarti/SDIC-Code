{
 "cells": [
  {
   "cell_type": "code",
   "execution_count": 1,
   "metadata": {
    "id": "v3oQOctu2gq9"
   },
   "outputs": [],
   "source": [
    "import random\n",
    "import numpy as np\n",
    "import gym\n",
    "import matplotlib\n",
    "import matplotlib.pyplot as plt\n",
    "import itertools"
   ]
  },
  {
   "cell_type": "code",
   "execution_count": 2,
   "metadata": {
    "colab": {
     "base_uri": "https://localhost:8080/"
    },
    "executionInfo": {
     "elapsed": 1634,
     "status": "ok",
     "timestamp": 1614267721013,
     "user": {
      "displayName": "MARTI SANCHEZ FIBLA",
      "photoUrl": "https://lh3.googleusercontent.com/a-/AOh14GhlfNrQFQQXOaTc4NN78MRNzmsOYLcRUr-tGn9r=s64",
      "userId": "08353041956880814737"
     },
     "user_tz": -60
    },
    "id": "5xhJIJP72l73",
    "outputId": "e55a868d-183a-479b-ddfb-6d2c52a67c65"
   },
   "outputs": [],
   "source": [
    "#!git clone https://github.com/santmarti/SDIC-Code.git\n",
    "#%cd SDIC-Code/notebooks"
   ]
  },
  {
   "cell_type": "code",
   "execution_count": 3,
   "metadata": {},
   "outputs": [],
   "source": [
    "from Environment import Environment\n",
    "from Environment import Environment, ACT_MODE, OBS_MODE\n",
    "from Plotting import plotQ"
   ]
  },
  {
   "cell_type": "code",
   "execution_count": 14,
   "metadata": {},
   "outputs": [],
   "source": [
    "class Softmax_wPolicy_class(object):\n",
    "\n",
    "    def __init__(self, env, learning_rate=0.001):  \n",
    "        self.learning_rate = learning_rate\n",
    "        self.nactions = env.action_space.n\n",
    "\n",
    "        obs = env.reset()\n",
    "        if len(np.array(obs).shape) > 1:\n",
    "            obs = np.array(obs).flatten()\n",
    "\n",
    "        self.w = np.random.uniform(low=-0.01, high=0.01, size=(len(obs), self.nactions))\n",
    "\n",
    "    def predict(self,s): \n",
    "        if len(np.array(s).shape) > 1:  # flatten for multidimensional\n",
    "            s = np.array(s).flatten()\n",
    "\n",
    "        z = s.dot(self.w)\n",
    "        exp = np.exp(z)         # assuming temp of 1 : initial values need to be very small + learning rate\n",
    "        exp = exp/np.sum(exp)\n",
    "\n",
    "        return exp\n",
    "    \n",
    "    def act(self, s, epsilon=0):\n",
    "        probs = self.predict(s)\n",
    "        return np.random.choice(self.nactions, p=probs)\n",
    "    \n",
    "    def softmax_grad(self,probs,a):                  \n",
    "        s = probs.reshape(-1,1)                      # equivalent to probs.flatten()\n",
    "        J = np.diagflat(s) - np.dot(s, s.T)          # Vectorized softmax Jacobian\n",
    "        return J[a]\n",
    "    \n",
    "    def score(self,s,a):\n",
    "        probs = self.predict(s)\n",
    "        dpolicy = self.softmax_grad(probs,a)      # Compute gradient and save with reward in memory for our weight updates\n",
    "        pa = max(0.0000001, probs[a])\n",
    "        dlog = dpolicy / pa\n",
    "        if len(np.array(s).shape) > 1:  # flatten for multidimensional\n",
    "            s = np.array(s).flatten()\n",
    "        \n",
    "        return s[None].T.dot(dlog[None])          # Score is same matrix shape as weights w\n",
    "        \n",
    "    def update_returns(self, states, actions, discounted_rewards):       \n",
    "        for s,a,Gt in zip(states,actions,discounted_rewards):     \n",
    "            target = self.score(s, a) * Gt\n",
    "            self.w += self.learning_rate * target\n",
    "\n"
   ]
  },
  {
   "cell_type": "code",
   "execution_count": 5,
   "metadata": {},
   "outputs": [],
   "source": [
    "def print_info(n, i_episode, num_episodes, epsilon, sum_rew, Q=None, steps=None):\n",
    "    if(i_episode == 0): \n",
    "        print(str(i_episode),\" Starting learning running \",num_episodes,\" episodes plotting every \", int(n),\" episodes\")  \n",
    "        return \n",
    "    if(epsilon < 0):\n",
    "        print(i_episode,\"   Mean Reward: \",sum_rew)\n",
    "    else:\n",
    "        str_steps = \"\" if steps is None else \" Steps: \"+str(steps)\n",
    "        str_Q = \"\" if Q is None else \" Q states: \"+str(Q.size())\n",
    "        print(i_episode, \" epsilon: %.1f\"%epsilon, \"   Mean Reward: %.1f\"%sum_rew, str_steps, str_Q)\n"
   ]
  },
  {
   "cell_type": "code",
   "execution_count": 6,
   "metadata": {},
   "outputs": [],
   "source": [
    "def episode_SARS_Tuples(env, policy, max_steps=10000):\n",
    "    state = env.reset()\n",
    "    states, actions, rewards, dones = [], [], [], []\n",
    "    for i in itertools.count():                         \n",
    "        action = policy.act(state)\n",
    "        next_state, reward, done, _ = env.step(action)\n",
    "        states += [state]\n",
    "        actions += [action]\n",
    "        rewards += [reward]\n",
    "        dones += [done]\n",
    "        if done or i > max_steps: break       # run the episode till done or max_steps reached\n",
    "        state = next_state\n",
    "    return states, actions, rewards, dones\n",
    "\n",
    "\n",
    "def Reinforce(env, learning_rate=0.1, discount_factor=0.95, num_episodes=5000, aPolicy_class=Softmax_wPolicy_class):\n",
    "    env.history = {\"episode_rew\":[]}\n",
    "    policy = aPolicy_class(env, learning_rate=learning_rate)        \n",
    "    mean_rew_epi = 0\n",
    "    for i_episode in range(num_episodes):\n",
    "                                     \n",
    "        states,actions,rewards,dones = episode_SARS_Tuples(env,policy)\n",
    "        mean_rew_epi += np.sum(rewards)\n",
    "        \n",
    "        Gt, discounted_rewards = 0, np.zeros(len(rewards))\n",
    "        for i in reversed(range(len(rewards))):\n",
    "            Gt = Gt * discount_factor + rewards[i]\n",
    "            discounted_rewards[i] = Gt\n",
    "        \n",
    "        policy.update_returns(states,actions,discounted_rewards)\n",
    "\n",
    "        env.history[\"episode_rew\"] += [np.sum(rewards)]\n",
    "        n = num_episodes/10\n",
    "        if(i_episode % n == 0):\n",
    "            print_info(n, i_episode, num_episodes, 0, mean_rew_epi/n) \n",
    "            mean_rew_epi = 0\n",
    "\n",
    "    env.close()\n",
    "    return  "
   ]
  },
  {
   "cell_type": "code",
   "execution_count": 7,
   "metadata": {
    "colab": {
     "base_uri": "https://localhost:8080/",
     "height": 282
    },
    "executionInfo": {
     "elapsed": 3861,
     "status": "ok",
     "timestamp": 1614270340986,
     "user": {
      "displayName": "MARTI SANCHEZ FIBLA",
      "photoUrl": "https://lh3.googleusercontent.com/a-/AOh14GhlfNrQFQQXOaTc4NN78MRNzmsOYLcRUr-tGn9r=s64",
      "userId": "08353041956880814737"
     },
     "user_tz": -60
    },
    "id": "2R-Ed-Y-2grJ",
    "outputId": "c672edd9-01f4-44ee-88e9-7028eb9eafee",
    "scrolled": true
   },
   "outputs": [
    {
     "name": "stdout",
     "output_type": "stream",
     "text": [
      "Setting default max_steps per episode: 100000\n",
      "CartPole-v1 is an openai gym registered environment\n",
      "CartPole--1ag Discrete Action Space with Discrete(2)\n",
      "0  Starting learning running  1500  episodes plotting every  150  episodes\n",
      "150  epsilon: 0.0    Mean Reward: 27.9  \n",
      "300  epsilon: 0.0    Mean Reward: 43.9  \n",
      "450  epsilon: 0.0    Mean Reward: 84.1  \n",
      "600  epsilon: 0.0    Mean Reward: 178.6  \n",
      "750  epsilon: 0.0    Mean Reward: 250.7  \n",
      "900  epsilon: 0.0    Mean Reward: 329.8  \n",
      "1050  epsilon: 0.0    Mean Reward: 373.0  \n",
      "1200  epsilon: 0.0    Mean Reward: 442.7  \n",
      "1350  epsilon: 0.0    Mean Reward: 473.2  \n"
     ]
    },
    {
     "data": {
      "text/plain": [
       "[<matplotlib.lines.Line2D at 0x12cf35ed0>]"
      ]
     },
     "execution_count": 7,
     "metadata": {},
     "output_type": "execute_result"
    },
    {
     "data": {
      "image/png": "[encoded data removed]",
      "text/plain": [
       "<Figure size 432x288 with 1 Axes>"
      ]
     },
     "metadata": {
      "needs_background": "light"
     },
     "output_type": "display_data"
    }
   ],
   "source": [
    "env = Environment(\"CartPole-v1\")\n",
    "params = {\"learning_rate\":0.0002, \"discount_factor\":0.99, \"num_episodes\":1500}\n",
    "Reinforce(env, **params, aPolicy_class=Softmax_wPolicy_class)\n",
    "plt.plot(env.history[\"episode_rew\"])"
   ]
  },
  {
   "cell_type": "code",
   "execution_count": 8,
   "metadata": {},
   "outputs": [
    {
     "name": "stdout",
     "output_type": "stream",
     "text": [
      "Setting default max_steps per episode: 100000\n",
      "LunarLander-v2 is an openai gym registered environment\n",
      "LunarLander--1ag Discrete Action Space with Discrete(4)\n",
      "0  Starting learning running  1500  episodes plotting every  150  episodes\n",
      "150  epsilon: 0.0    Mean Reward: -138.4  \n",
      "300  epsilon: 0.0    Mean Reward: -96.7  \n",
      "450  epsilon: 0.0    Mean Reward: -66.4  \n",
      "600  epsilon: 0.0    Mean Reward: -42.4  \n",
      "750  epsilon: 0.0    Mean Reward: -17.0  \n",
      "900  epsilon: 0.0    Mean Reward: 3.6  \n",
      "1050  epsilon: 0.0    Mean Reward: 9.0  \n",
      "1200  epsilon: 0.0    Mean Reward: 2.6  \n",
      "1350  epsilon: 0.0    Mean Reward: 26.4  \n"
     ]
    },
    {
     "data": {
      "text/plain": [
       "[<matplotlib.lines.Line2D at 0x12d632350>]"
      ]
     },
     "execution_count": 8,
     "metadata": {},
     "output_type": "execute_result"
    },
    {
     "data": {
      "image/png": "[encoded data removed]",
      "text/plain": [
       "<Figure size 432x288 with 1 Axes>"
      ]
     },
     "metadata": {
      "needs_background": "light"
     },
     "output_type": "display_data"
    }
   ],
   "source": [
    "env = Environment(\"LunarLander-v2\")\n",
    "params = {\"learning_rate\":0.0001, \"discount_factor\":0.99, \"num_episodes\":1500}\n",
    "Reinforce(env, **params, aPolicy_class=Softmax_wPolicy_class)\n",
    "plt.plot(env.history[\"episode_rew\"])"
   ]
  }
 ],
 "metadata": {
  "colab": {
   "collapsed_sections": [],
   "name": "03-Sarsa-Q-Learning.ipynb",
   "provenance": []
  },
  "kernelspec": {
   "display_name": "Python 3",
   "language": "python",
   "name": "python3"
  },
  "language_info": {
   "codemirror_mode": {
    "name": "ipython",
    "version": 3
   },
   "file_extension": ".py",
   "mimetype": "text/x-python",
   "name": "python",
   "nbconvert_exporter": "python",
   "pygments_lexer": "ipython3",
   "version": "3.7.4"
  }
 },
 "nbformat": 4,
 "nbformat_minor": 1
}
