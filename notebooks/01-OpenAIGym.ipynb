{
 "cells": [
  {
   "cell_type": "code",
   "execution_count": 2,
   "metadata": {},
   "outputs": [],
   "source": [
    "import gym"
   ]
  },
  {
   "cell_type": "markdown",
   "metadata": {},
   "source": [
    "### Environment Instance Creation"
   ]
  },
  {
   "cell_type": "code",
   "execution_count": 3,
   "metadata": {},
   "outputs": [
    {
     "name": "stdout",
     "output_type": "stream",
     "text": [
      "Observation Space: Discrete(16)\n",
      "Action Space: Discrete(4)\n",
      "Observation after reset: 0\n",
      "The action space can be sampled, for example: 0\n"
     ]
    }
   ],
   "source": [
    "env = gym.make(\"FrozenLake-v0\",  is_slippery=False)\n",
    "print(\"Observation Space: \" + str(env.observation_space))\n",
    "print(\"Action Space: \" + str(env.action_space))\n",
    "observation = env.reset()\n",
    "print(\"Observation after reset: \" + str(observation))\n",
    "print(\"The action space can be sampled, for example:\", env.action_space.sample())"
   ]
  },
  {
   "cell_type": "markdown",
   "metadata": {},
   "source": [
    "#### Environments can be rendered"
   ]
  },
  {
   "cell_type": "code",
   "execution_count": 4,
   "metadata": {},
   "outputs": [
    {
     "name": "stdout",
     "output_type": "stream",
     "text": [
      "\n",
      "\u001b[41mS\u001b[0mFFF\n",
      "FHFH\n",
      "FFFH\n",
      "HFFG\n"
     ]
    }
   ],
   "source": [
    "env.render()"
   ]
  },
  {
   "cell_type": "markdown",
   "metadata": {},
   "source": [
    "### Understanding Environment\n",
    "\n",
    "The __State__ space is : _Discrete_? _Continuous_? <br>\n",
    "How many dimensions it has? <br>\n",
    "What is the state data type? <br>\n",
    "\n",
    "The __Action__ space is _Discrete_? _Continuous_? <br>\n",
    "How many actions? <br>\n",
    "What is the action data type? <br>\n",
    "\n",
    "Is the environment __episodic__, runs in episodes? terminates? When? <br>\n",
    "\n",
    "And what characterizes the reward, is it: negative? positive? discrete? continuous? smooth? sparse? <br>"
   ]
  },
  {
   "cell_type": "markdown",
   "metadata": {},
   "source": [
    "### Agent takes steps in the environment receives: <font color=blue> new obs, reward, done and info  </font>"
   ]
  },
  {
   "cell_type": "code",
   "execution_count": 4,
   "metadata": {},
   "outputs": [
    {
     "name": "stdout",
     "output_type": "stream",
     "text": [
      "\n",
      "\u001b[41mS\u001b[0mFFF\n",
      "FHFH\n",
      "FFFH\n",
      "HFFG\n",
      "obs 4 rew 0.0 done False\n",
      "  (Down)\n",
      "SFFF\n",
      "\u001b[41mF\u001b[0mHFH\n",
      "FFFH\n",
      "HFFG\n"
     ]
    }
   ],
   "source": [
    "#observation = env.reset()\n",
    "env.render()\n",
    "observation, reward, done, info = env.step(1)\n",
    "print(\"obs\", observation, \"rew\", reward, \"done\", done)\n",
    "env.render()"
   ]
  },
  {
   "cell_type": "markdown",
   "metadata": {},
   "source": [
    "### Lets define the Agent-Environment Loop: One Episode"
   ]
  },
  {
   "cell_type": "code",
   "execution_count": 5,
   "metadata": {},
   "outputs": [
    {
     "name": "stdout",
     "output_type": "stream",
     "text": [
      "obs 0 rew 0.0 done False\n",
      "obs 0 rew 0.0 done False\n",
      "obs 4 rew 0.0 done False\n",
      "obs 8 rew 0.0 done False\n",
      "obs 4 rew 0.0 done False\n",
      "obs 8 rew 0.0 done False\n",
      "obs 9 rew 0.0 done False\n",
      "obs 5 rew 0.0 done True\n"
     ]
    }
   ],
   "source": [
    "done = False\n",
    "obs = env.reset()\n",
    "while not done:\n",
    "    action = env.action_space.sample()\n",
    "    obs, rew, done, _ = env.step(action)\n",
    "    print(\"obs\",obs,\"rew\",rew, \"done\", done)\n",
    "    \n"
   ]
  },
  {
   "cell_type": "markdown",
   "metadata": {},
   "source": [
    "### The Agent-Environment Loop : Defining a One Episode Function and Run Several Episodes"
   ]
  },
  {
   "cell_type": "code",
   "execution_count": 20,
   "metadata": {},
   "outputs": [
    {
     "name": "stdout",
     "output_type": "stream",
     "text": [
      "Episode ended sum_reward = 0.0\n",
      "Episode ended sum_reward = 0.0\n",
      "Episode ended sum_reward = 0.0\n",
      "Episode ended sum_reward = 0.0\n",
      "Episode ended sum_reward = 0.0\n",
      "Episode ended sum_reward = 0.0\n",
      "Episode ended sum_reward = 0.0\n",
      "Episode ended sum_reward = 0.0\n",
      "Episode ended sum_reward = 0.0\n",
      "Episode ended sum_reward = 0.0\n"
     ]
    }
   ],
   "source": [
    "def run_episode(bRender=False):\n",
    "    done = False\n",
    "    obs = env.reset()\n",
    "    sum_reward = 0\n",
    "    while not done:\n",
    "        action = env.action_space.sample()\n",
    "        obs, rew, done, _ = env.step(action)\n",
    "        sum_reward += rew\n",
    "        #print(\"obs\",obs,\"rew\",rew, \"done\", done)\n",
    "    print(\"Episode ended sum_reward =\",sum_reward)\n",
    "    return rew\n",
    "    \n",
    "for i in range(10):\n",
    "    run_episode()"
   ]
  }
 ],
 "metadata": {
  "kernelspec": {
   "display_name": "Python 3",
   "language": "python",
   "name": "python3"
  },
  "language_info": {
   "codemirror_mode": {
    "name": "ipython",
    "version": 3
   },
   "file_extension": ".py",
   "mimetype": "text/x-python",
   "name": "python",
   "nbconvert_exporter": "python",
   "pygments_lexer": "ipython3",
   "version": "3.7.4"
  }
 },
 "nbformat": 4,
 "nbformat_minor": 2
}
