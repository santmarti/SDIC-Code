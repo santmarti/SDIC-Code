{
 "cells": [
  {
   "cell_type": "code",
   "execution_count": 4,
   "metadata": {
    "id": "O6wGvHMBayjD"
   },
   "outputs": [],
   "source": [
    "import matplotlib\n",
    "import matplotlib.pyplot as plt\n",
    "import numpy as np"
   ]
  },
  {
   "cell_type": "code",
   "execution_count": 5,
   "metadata": {
    "colab": {
     "base_uri": "https://localhost:8080/"
    },
    "executionInfo": {
     "elapsed": 6083,
     "status": "ok",
     "timestamp": 1614264071758,
     "user": {
      "displayName": "HUICHENG ZHANG",
      "photoUrl": "https://lh3.googleusercontent.com/a-/AOh14GhBGxUiMF_2QDcBo3QJZMYwOha8M-AWuf3OwXuw=s64",
      "userId": "14478927848990390198"
     },
     "user_tz": -480
    },
    "id": "gdFIXnGvayjI",
    "outputId": "ba429b5a-5d25-4b98-da27-8c2498465188"
   },
   "outputs": [],
   "source": [
    "# For Colab uncomment the following lines:\n",
    "#!git clone https://github.com/santmarti/SDIC-Code.git\n",
    "#%cd SDIC-Code/notebooks\n",
    "\n",
    "from Environment import Environment"
   ]
  },
  {
   "cell_type": "markdown",
   "metadata": {
    "id": "Jt9GAtTHayjK"
   },
   "source": [
    "### Environment class defined in file Environment.py \n",
    "The class lets you create any OpenAI gym environment and also some others that we added. Here follow some valid names for environments instantiations:"
   ]
  },
  {
   "cell_type": "markdown",
   "metadata": {
    "id": "mA93LtiKayjK"
   },
   "source": [
    "###  Simplest Example of Sutton's talk.     file:  suttonsimplest.py\n",
    "You only know that you have two possible actions: 0 and 1"
   ]
  },
  {
   "cell_type": "code",
   "execution_count": 6,
   "metadata": {
    "colab": {
     "base_uri": "https://localhost:8080/"
    },
    "executionInfo": {
     "elapsed": 556,
     "status": "ok",
     "timestamp": 1614264441071,
     "user": {
      "displayName": "MARTI SANCHEZ FIBLA",
      "photoUrl": "https://lh3.googleusercontent.com/a-/AOh14GhlfNrQFQQXOaTc4NN78MRNzmsOYLcRUr-tGn9r=s64",
      "userId": "08353041956880814737"
     },
     "user_tz": -60
    },
    "id": "kjAhioDNayjL",
    "outputId": "7c2b990f-60cc-463a-b736-c057b8edfede",
    "scrolled": true
   },
   "outputs": [
    {
     "name": "stdout",
     "output_type": "stream",
     "text": [
      "Setting default max_steps per episode: 100000\n",
      "SuttonSimplest--1ag Discrete Action Space with Discrete(2)\n",
      "Ini State: 0\n",
      "Action space:  Discrete(2)\n"
     ]
    }
   ],
   "source": [
    "env = Environment(\"SuttonSimplest\")\n",
    "print(\"Ini State: %d\"%env.reset())\n",
    "print(\"Action space: \", env.action_space)"
   ]
  },
  {
   "cell_type": "code",
   "execution_count": 95,
   "metadata": {
    "colab": {
     "base_uri": "https://localhost:8080/"
    },
    "executionInfo": {
     "elapsed": 544,
     "status": "ok",
     "timestamp": 1614264847836,
     "user": {
      "displayName": "MARTI SANCHEZ FIBLA",
      "photoUrl": "https://lh3.googleusercontent.com/a-/AOh14GhlfNrQFQQXOaTc4NN78MRNzmsOYLcRUr-tGn9r=s64",
      "userId": "08353041956880814737"
     },
     "user_tz": -60
    },
    "id": "JmbJ8oA-ayjN",
    "outputId": "c8355a44-36e2-4cc8-da82-af066210dcf3"
   },
   "outputs": [
    {
     "name": "stdout",
     "output_type": "stream",
     "text": [
      "Ini State: 0\n",
      "State 1 Reward -10, Done: False\n"
     ]
    }
   ],
   "source": [
    "print(\"Ini State: %d\"%env.reset())\n",
    "state, reward, done, info = env.step(1)\n",
    "print(\"State %d Reward %d, Done:\" % (state, reward), done)"
   ]
  },
  {
   "cell_type": "code",
   "execution_count": 199,
   "metadata": {
    "executionInfo": {
     "elapsed": 513,
     "status": "ok",
     "timestamp": 1614265257348,
     "user": {
      "displayName": "MARTI SANCHEZ FIBLA",
      "photoUrl": "https://lh3.googleusercontent.com/a-/AOh14GhlfNrQFQQXOaTc4NN78MRNzmsOYLcRUr-tGn9r=s64",
      "userId": "08353041956880814737"
     },
     "user_tz": -60
    },
    "id": "QFd5IMokayjO"
   },
   "outputs": [],
   "source": [
    "def policy_random():\n",
    "    return env.action_space.sample()\n",
    "\n",
    "def policy(state):\n",
    "    pi = {0: 1, 1: 0}\n",
    "    pi_array = np.array([1, 0])   # indices are 0 and 1   \n",
    "    #return pi_array[state]    \n",
    "    return pi[state]"
   ]
  },
  {
   "cell_type": "code",
   "execution_count": 103,
   "metadata": {
    "colab": {
     "base_uri": "https://localhost:8080/"
    },
    "executionInfo": {
     "elapsed": 373,
     "status": "ok",
     "timestamp": 1614264988743,
     "user": {
      "displayName": "MARTI SANCHEZ FIBLA",
      "photoUrl": "https://lh3.googleusercontent.com/a-/AOh14GhlfNrQFQQXOaTc4NN78MRNzmsOYLcRUr-tGn9r=s64",
      "userId": "08353041956880814737"
     },
     "user_tz": -60
    },
    "id": "asAjdG2CayjP",
    "outputId": "0c5f58b2-17c9-4076-dcfa-400fff6fa3a5"
   },
   "outputs": [
    {
     "name": "stdout",
     "output_type": "stream",
     "text": [
      "Total reward: 1160\n"
     ]
    }
   ],
   "source": [
    "env.reset()\n",
    "sum_rew = 0\n",
    "for _ in range(100):\n",
    "    state, reward, _, _ = env.step(np.random.randint(2))\n",
    "    sum_rew += reward\n",
    "print(\"Total reward:\", sum_rew)"
   ]
  },
  {
   "cell_type": "code",
   "execution_count": 177,
   "metadata": {
    "colab": {
     "base_uri": "https://localhost:8080/"
    },
    "executionInfo": {
     "elapsed": 524,
     "status": "ok",
     "timestamp": 1614264993571,
     "user": {
      "displayName": "MARTI SANCHEZ FIBLA",
      "photoUrl": "https://lh3.googleusercontent.com/a-/AOh14GhlfNrQFQQXOaTc4NN78MRNzmsOYLcRUr-tGn9r=s64",
      "userId": "08353041956880814737"
     },
     "user_tz": -60
    },
    "id": "FRWz0fL9ayjP",
    "outputId": "b148ed04-9147-4c9e-fd7c-fee0e2ede3ee"
   },
   "outputs": [
    {
     "name": "stdout",
     "output_type": "stream",
     "text": [
      "Total reward: 1600\n"
     ]
    }
   ],
   "source": [
    "state = env.reset()\n",
    "sum_rew = 0\n",
    "for _ in range(100):\n",
    "    action = 1 if state == 0 else 0\n",
    "    state, reward, _, _ = env.step(action)\n",
    "    sum_rew += reward\n",
    "print(\"Total reward:\", sum_rew)"
   ]
  },
  {
   "cell_type": "code",
   "execution_count": 206,
   "metadata": {
    "colab": {
     "base_uri": "https://localhost:8080/"
    },
    "executionInfo": {
     "elapsed": 511,
     "status": "ok",
     "timestamp": 1614265266816,
     "user": {
      "displayName": "MARTI SANCHEZ FIBLA",
      "photoUrl": "https://lh3.googleusercontent.com/a-/AOh14GhlfNrQFQQXOaTc4NN78MRNzmsOYLcRUr-tGn9r=s64",
      "userId": "08353041956880814737"
     },
     "user_tz": -60
    },
    "id": "KG0C_ytfskrT",
    "outputId": "c617361b-7980-4ee6-94e2-072eed62dc84"
   },
   "outputs": [
    {
     "name": "stdout",
     "output_type": "stream",
     "text": [
      "Total reward: 1600\n"
     ]
    }
   ],
   "source": [
    "state = env.reset()\n",
    "sum_rew = 0\n",
    "for _ in range(100):\n",
    "    action = policy(state)\n",
    "    state, reward, _, _ = env.step(action)\n",
    "    sum_rew += reward\n",
    "print(\"Total reward:\", sum_rew)"
   ]
  },
  {
   "cell_type": "markdown",
   "metadata": {
    "id": "XzfZ_c7-p82M"
   },
   "source": [
    "## Cliff World"
   ]
  },
  {
   "cell_type": "code",
   "execution_count": 207,
   "metadata": {
    "colab": {
     "base_uri": "https://localhost:8080/"
    },
    "executionInfo": {
     "elapsed": 515,
     "status": "ok",
     "timestamp": 1614263874163,
     "user": {
      "displayName": "MARTI SANCHEZ FIBLA",
      "photoUrl": "https://lh3.googleusercontent.com/a-/AOh14GhlfNrQFQQXOaTc4NN78MRNzmsOYLcRUr-tGn9r=s64",
      "userId": "08353041956880814737"
     },
     "user_tz": -60
    },
    "id": "u8hGQYVyn8fa",
    "outputId": "ecc92e8d-f8dc-410c-9419-3bfd01add0e7"
   },
   "outputs": [
    {
     "name": "stdout",
     "output_type": "stream",
     "text": [
      "Setting default max_steps per episode: 100000\n",
      "Default number of agents: 1\n",
      "-1ag Discrete Action Space with Discrete(4)\n",
      "Ini State: 36\n"
     ]
    }
   ],
   "source": [
    "conf = {\"name\":\"CliffWalking\", \"run\":{}}   # using conf, we add \"run\" dictionary to log data\n",
    "env = Environment(conf)\n",
    "print(\"Ini State: %d\"%env.reset())"
   ]
  },
  {
   "cell_type": "code",
   "execution_count": 211,
   "metadata": {
    "colab": {
     "base_uri": "https://localhost:8080/"
    },
    "executionInfo": {
     "elapsed": 487,
     "status": "ok",
     "timestamp": 1614264122209,
     "user": {
      "displayName": "MARTI SANCHEZ FIBLA",
      "photoUrl": "https://lh3.googleusercontent.com/a-/AOh14GhlfNrQFQQXOaTc4NN78MRNzmsOYLcRUr-tGn9r=s64",
      "userId": "08353041956880814737"
     },
     "user_tz": -60
    },
    "id": "gferG3MloI1r",
    "outputId": "8b2dbfd6-a16d-4efe-b2f0-a1b183a1575f"
   },
   "outputs": [
    {
     "data": {
      "text/plain": [
       "(24, -1.0, False, {'prob': 1.0})"
      ]
     },
     "execution_count": 211,
     "metadata": {},
     "output_type": "execute_result"
    }
   ],
   "source": [
    "env.step(0)"
   ]
  },
  {
   "cell_type": "code",
   "execution_count": 212,
   "metadata": {
    "colab": {
     "base_uri": "https://localhost:8080/"
    },
    "executionInfo": {
     "elapsed": 535,
     "status": "ok",
     "timestamp": 1614264368142,
     "user": {
      "displayName": "MARTI SANCHEZ FIBLA",
      "photoUrl": "https://lh3.googleusercontent.com/a-/AOh14GhlfNrQFQQXOaTc4NN78MRNzmsOYLcRUr-tGn9r=s64",
      "userId": "08353041956880814737"
     },
     "user_tz": -60
    },
    "id": "P0jtt9xep2nf",
    "outputId": "a7bb4bfa-1dff-4be1-b6cf-0b928dd1d5d4"
   },
   "outputs": [
    {
     "name": "stdout",
     "output_type": "stream",
     "text": [
      "o  o  o  o  o  o  o  o  o  o  o  o\n",
      "o  o  o  o  o  o  o  o  o  o  o  o\n",
      "x  o  o  o  o  o  o  o  o  o  o  o\n",
      "o  C  C  C  C  C  C  C  C  C  C  T\n",
      "\n"
     ]
    }
   ],
   "source": [
    "env.render()"
   ]
  },
  {
   "cell_type": "code",
   "execution_count": 210,
   "metadata": {
    "colab": {
     "base_uri": "https://localhost:8080/"
    },
    "executionInfo": {
     "elapsed": 527,
     "status": "ok",
     "timestamp": 1614264200238,
     "user": {
      "displayName": "MARTI SANCHEZ FIBLA",
      "photoUrl": "https://lh3.googleusercontent.com/a-/AOh14GhlfNrQFQQXOaTc4NN78MRNzmsOYLcRUr-tGn9r=s64",
      "userId": "08353041956880814737"
     },
     "user_tz": -60
    },
    "id": "cYxn5U4bpG93",
    "outputId": "39237de4-f4d1-477e-fa50-80ebc1a475a9"
   },
   "outputs": [
    {
     "name": "stdout",
     "output_type": "stream",
     "text": [
      "Discrete(48)\n"
     ]
    }
   ],
   "source": [
    "print(env.observation_space)"
   ]
  }
 ],
 "metadata": {
  "colab": {
   "collapsed_sections": [],
   "name": "02-EnvironmentClass.ipynb",
   "provenance": []
  },
  "kernelspec": {
   "display_name": "Python 3",
   "language": "python",
   "name": "python3"
  },
  "language_info": {
   "codemirror_mode": {
    "name": "ipython",
    "version": 3
   },
   "file_extension": ".py",
   "mimetype": "text/x-python",
   "name": "python",
   "nbconvert_exporter": "python",
   "pygments_lexer": "ipython3",
   "version": "3.6.13"
  }
 },
 "nbformat": 4,
 "nbformat_minor": 1
}
