{
 "cells": [
  {
   "cell_type": "markdown",
   "id": "c4ddd0ce",
   "metadata": {},
   "source": [
    "## Immediate Reward Prediction \n",
    "### Stateless environment, only one single state, two possible actions  $\\mathcal{A} = \\{L,R\\}$\n",
    "\n",
    "The update of our estimate $Q$ of the reward we can obtain doing A, that is, Q(A), is:\n",
    "\n",
    "$Q(A) = Q(A) + \\alpha(r - Q(A))$\n",
    "\n",
    "This expression can also be writen as:\n",
    "\n",
    "$Q(A) = (1-\\alpha)Q(A) + \\alpha r$\n",
    "\n",
    "We prefer the first form as it highlights the role of the Temporal Difference error: the difference between the reward that we actually got and the one we predicted:\n",
    "\n",
    "$TD_{error} = r - Q(A)$\n",
    "\n",
    "\n"
   ]
  },
  {
   "cell_type": "code",
   "execution_count": 1,
   "id": "daa917aa",
   "metadata": {},
   "outputs": [
    {
     "name": "stdout",
     "output_type": "stream",
     "text": [
      "Q: {'L': 0, 'R': 0}\n"
     ]
    }
   ],
   "source": [
    "import random\n",
    "import matplotlib\n",
    "import matplotlib.pyplot as plt\n",
    "\n",
    "A = ['L','R']\n",
    "Q = {'L':0, 'R':0}           # Q : A -> Value \n",
    "alfa = 0.1\n",
    "R = {'L':1, 'R':0}    # The reward function belongs to the environment and is invisible to the agent \n",
    "print(\"Q:\", Q)"
   ]
  },
  {
   "cell_type": "code",
   "execution_count": 2,
   "id": "581e2b43",
   "metadata": {},
   "outputs": [
    {
     "data": {
      "text/plain": [
       "'R'"
      ]
     },
     "execution_count": 2,
     "metadata": {},
     "output_type": "execute_result"
    }
   ],
   "source": [
    "random.choice(A)"
   ]
  },
  {
   "cell_type": "code",
   "execution_count": 3,
   "id": "43199c9d",
   "metadata": {},
   "outputs": [
    {
     "name": "stdout",
     "output_type": "stream",
     "text": [
      "{'L': 0.9912720364319122, 'R': 0.0}\n"
     ]
    }
   ],
   "source": [
    "td_list = []\n",
    "for _ in range(100):\n",
    "    a = random.choice(A)\n",
    "    Q[a] = Q[a] + alfa*(R[a] - Q[a])\n",
    "    if a == 'L':\n",
    "        td_list += [R[a] - Q[a]]\n",
    "print(Q)"
   ]
  },
  {
   "cell_type": "code",
   "execution_count": 4,
   "id": "166668cf",
   "metadata": {},
   "outputs": [
    {
     "data": {
      "image/png": "[encoded data removed]",
      "text/plain": [
       "<Figure size 432x288 with 1 Axes>"
      ]
     },
     "metadata": {
      "needs_background": "light"
     },
     "output_type": "display_data"
    }
   ],
   "source": [
    "def plot(td_list):\n",
    "    fig, ax = plt.subplots()\n",
    "    plt.plot(td_list)\n",
    "    ax.set_xlabel('Updates')\n",
    "    ax.set_ylabel('TD Error')\n",
    "\n",
    "plot(td_list)"
   ]
  },
  {
   "cell_type": "markdown",
   "id": "3a03ed57",
   "metadata": {},
   "source": [
    "Lets change the reward to the other arm of the T-Maze"
   ]
  },
  {
   "cell_type": "code",
   "execution_count": 5,
   "id": "5fc0a867",
   "metadata": {},
   "outputs": [],
   "source": [
    "R = {'L':0, 'R':1}"
   ]
  },
  {
   "cell_type": "code",
   "execution_count": 6,
   "id": "6b4dd8b6",
   "metadata": {},
   "outputs": [
    {
     "name": "stdout",
     "output_type": "stream",
     "text": [
      "{'L': 0.0033518792480920715, 'R': 0.992144832788721}\n"
     ]
    }
   ],
   "source": [
    "for _ in range(100):\n",
    "    a = random.choice(A)\n",
    "    Q[a] = Q[a] + alfa*(R[a] - Q[a])\n",
    "    #print(\"Done\", a, \"  --> TD error: \", R[a] - Q[a])\n",
    "    if a == 'L':\n",
    "        td_list += [R[a] - Q[a]]\n",
    "    \n",
    "print(Q)"
   ]
  },
  {
   "cell_type": "code",
   "execution_count": 7,
   "id": "030f8ba1",
   "metadata": {},
   "outputs": [
    {
     "data": {
      "image/png": "[encoded data removed]",
      "text/plain": [
       "<Figure size 432x288 with 1 Axes>"
      ]
     },
     "metadata": {
      "needs_background": "light"
     },
     "output_type": "display_data"
    }
   ],
   "source": [
    "plot(td_list)"
   ]
  },
  {
   "cell_type": "markdown",
   "id": "41e2a0ca",
   "metadata": {},
   "source": [
    "## Environment with states $\\mathcal{S}=\\{A,B,C\\}$\n",
    "Now the environment has states and precise transitions between them. We can go from A to B doing action $L$. We can go from A to C doing action $R$. There are no applicable actions in B and C as they are terminal states.\n",
    "\n",
    "### We predict the future discounted reward instead of the immediate one \n",
    "The future discounted reward is the reward we just got $r$ plus the best we can do from the next state $S'$, that is, the maximum value over all available actions discounted by gamma ($\\gamma\\ \\underset{a'\\in A}{\\max}Q(S',a')$).\n",
    "\n",
    "The update after a new transition $S,A,S',r$ has been observed (action $A$ has been performed in $S$, we went to $S'$ and got $r$) goes as follows:\n",
    "\n",
    "$Q(S,A) = Q(S,A) + \\alpha(r + \\gamma\\ \\underset{a'\\in A}{\\max}Q(S',a') - Q(S,A))$\n",
    "\n",
    "\n"
   ]
  },
  {
   "cell_type": "code",
   "execution_count": 26,
   "id": "d8a8b506",
   "metadata": {},
   "outputs": [
    {
     "name": "stdout",
     "output_type": "stream",
     "text": [
      "Q: {('A', 'L'): 0, ('A', 'R'): 0, ('B', 'L'): 0, ('B', 'R'): 0, ('C', 'L'): 0, ('C', 'R'): 0}\n",
      "R: {('A', 'L'): 0, ('A', 'R'): 0, ('B', 'L'): 1, ('B', 'R'): 0, ('C', 'L'): 0, ('C', 'R'): -10}\n"
     ]
    }
   ],
   "source": [
    "# We define here the T-Maze seen in class\n",
    "\n",
    "S = ['A','B','C']\n",
    "R = {}\n",
    "Q = {}\n",
    "for s in S:\n",
    "    for a in A:\n",
    "        Q[(s,a)] = 0\n",
    "        R[(s,a)] = 0\n",
    "\n",
    "R[('B','L')] = 1     # positive reward for getting to B and doing L\n",
    "R[('C','R')] = -10   # negative reward, predator in state C doing R \n",
    "gamma = 0.9\n",
    "\n",
    "print(\"Q:\",Q)\n",
    "print(\"R:\",R)"
   ]
  },
  {
   "cell_type": "code",
   "execution_count": 27,
   "id": "e93d6ab4",
   "metadata": {},
   "outputs": [
    {
     "name": "stdout",
     "output_type": "stream",
     "text": [
      "Q Before: {('A', 'L'): 0, ('A', 'R'): 0, ('B', 'L'): 0, ('B', 'R'): 0, ('C', 'L'): 0, ('C', 'R'): 0}\n",
      "Q After: {('A', 'L'): 0.8999962850416046, ('A', 'R'): 0.0, ('B', 'L'): 0.9999982838462669, ('B', 'R'): 0.0, ('C', 'L'): 0.0, ('C', 'R'): -9.999993351268817}\n"
     ]
    }
   ],
   "source": [
    "print(\"Q Before:\", Q)\n",
    "\n",
    "\n",
    "td_list_A = []\n",
    "td_list_B = []\n",
    "for _ in range(500):    # trials loop    \n",
    "    \n",
    "    # decision on first junction\n",
    "    S_current = 'A'\n",
    "    a = random.choice(A)\n",
    "    #print(\"Was in\", S_current, \"did action\", a)\n",
    "    S_next = 'B' if a == 'L' else 'C'  # transition function from environment\n",
    "    \n",
    "    q_max_S_next = max([Q[(S_next, a_)] for a_ in A])\n",
    "    TD_error = R[(S_current,a)] + gamma*q_max_S_next - Q[(S_current,a)]\n",
    "    Q[(S_current,a)] = Q[(S_current,a)] + alfa*TD_error\n",
    "    \n",
    "    if a == 'L':\n",
    "        td_list_A += [TD_error]  # We track the TD error of state A after doing L\n",
    "\n",
    "    S_current = S_next\n",
    "    # decision on second junction (no need to discount as it is a terminal state)\n",
    "    a = random.choice(A)\n",
    "    #print(\"Was in\", S_current, \"did action\", a)\n",
    "    TD_error = R[(S_current,a)] - Q[(S_current,a)]\n",
    "    Q[(S_current,a)] = Q[(S_current,a)] + alfa*TD_error\n",
    "\n",
    "    if S_current == 'B' and a == 'L':  # We track the TD error of state B after doing L\n",
    "        td_list_B += [TD_error]\n",
    "\n",
    "print(\"Q After:\", Q)"
   ]
  },
  {
   "cell_type": "code",
   "execution_count": 28,
   "id": "057e1d94",
   "metadata": {},
   "outputs": [
    {
     "data": {
      "image/png": "[encoded data removed]",
      "text/plain": [
       "<Figure size 432x288 with 1 Axes>"
      ]
     },
     "metadata": {
      "needs_background": "light"
     },
     "output_type": "display_data"
    },
    {
     "data": {
      "image/png": "[encoded data removed]",
      "text/plain": [
       "<Figure size 432x288 with 1 Axes>"
      ]
     },
     "metadata": {
      "needs_background": "light"
     },
     "output_type": "display_data"
    }
   ],
   "source": [
    "plot(td_list_A)\n",
    "plot(td_list_B)"
   ]
  },
  {
   "cell_type": "code",
   "execution_count": null,
   "id": "221ab2b7",
   "metadata": {},
   "outputs": [],
   "source": []
  }
 ],
 "metadata": {
  "kernelspec": {
   "display_name": "Python 3 (ipykernel)",
   "language": "python",
   "name": "python3"
  },
  "language_info": {
   "codemirror_mode": {
    "name": "ipython",
    "version": 3
   },
   "file_extension": ".py",
   "mimetype": "text/x-python",
   "name": "python",
   "nbconvert_exporter": "python",
   "pygments_lexer": "ipython3",
   "version": "3.7.11"
  }
 },
 "nbformat": 4,
 "nbformat_minor": 5
}
