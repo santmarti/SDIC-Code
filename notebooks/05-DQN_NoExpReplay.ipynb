{
 "cells": [
  {
   "cell_type": "code",
   "execution_count": 1,
   "metadata": {},
   "outputs": [],
   "source": [
    "import numpy as np\n",
    "\n",
    "from insoco.Environment import Environment, ACT_MODE, OBS_MODE\n",
    "from insoco.Plotting import plotQ"
   ]
  },
  {
   "cell_type": "code",
   "execution_count": 2,
   "metadata": {},
   "outputs": [],
   "source": [
    "class Q_function():  \n",
    "    # stores the Q_function Q(s,a) = \"future reward\" as a dictionnary:\n",
    "    # Q(s) = [ reward per action ]\n",
    "    # either as a table (or function approximation, next notebook)    \n",
    "    # stores the number of actions of the agent needed to add a new output \n",
    "\n",
    "    def __init__(self, env):       \n",
    "        self.nactions = env.action_space.n\n",
    "        self.f = {}\n",
    "        \n",
    "    def predict(self, s, a=None):\n",
    "        if s not in self.f:\n",
    "             self.f[s] = [0]*self.nactions       \n",
    "        return self.f[s] if a is None else self.f[s][a]\n",
    "    \n",
    "    def update(self, s, a, y):\n",
    "        self.f[s][a] = y\n"
   ]
  },
  {
   "cell_type": "code",
   "execution_count": 3,
   "metadata": {},
   "outputs": [],
   "source": [
    "# **************************************************************************\n",
    "# Q Approximation with Non-Linear approximators with Deep Neural Networks\n",
    "# Requires tensorflow as the neural net is defined with it\n",
    "\n",
    "class DQN_function():\n",
    "    # stores the Q_function Q(s,a) = \"future reward\" but in fact Q(s) = [ f. reward per action ]\n",
    "    # as function approximation with a Neural Network\n",
    "\n",
    "    def __init__(self, env, params_qfunc=None):\n",
    "        from keras.models import Sequential\n",
    "        from keras.optimizers import Adam\n",
    "        from keras.layers import Dense\n",
    "\n",
    "        self.learning_rate = 0.001\n",
    "        if(params_qfunc is not None):\n",
    "            if(\"learning_rate\" in params_qfunc):\n",
    "                self.learning_rate = params_qfunc[\"learning_rate\"]\n",
    "\n",
    "        obs = env.reset() \n",
    "        if env.num_agents > 1:\n",
    "            obs = obs[0]\n",
    "        \n",
    "        self.input_shape = obs.flatten().shape[0]\n",
    "\n",
    "        print(\"DQN_function init  obs_space.shape\", env.observation_space.shape, \"   used: \", self.input_shape)\n",
    "        self.nactions = env.action_space.n\n",
    "\n",
    "        self.model = Sequential()\n",
    "        self.model.add(Dense(8, input_shape=(self.input_shape,), activation=\"relu\"))\n",
    "        self.model.add(Dense(16, activation=\"relu\"))\n",
    "        self.model.add(Dense(self.nactions, activation=\"linear\"))\n",
    "        self.model.compile(loss=\"mse\", optimizer=Adam(lr=self.learning_rate))\n",
    "        self.model.summary()\n",
    "\n",
    "    def predict(self, s):\n",
    "        s_flat = s.flatten()\n",
    "        s_batch = np.reshape(s, [1, s_flat.shape[0]])\n",
    "        return self.model.predict(s_batch)[0]\n",
    "\n",
    "    def update(self, s, a, y):\n",
    "        s_flat = s.flatten()\n",
    "        s_batch = np.reshape(s, [1, s_flat.shape[0]])   # calling predict was causing\n",
    "        q_values = self.model.predict(s_batch)[0]       # bad inheritance behavior\n",
    "        q_values[a] = y\n",
    "        q_values_batch = np.reshape(q_values, [1, self.nactions])\n",
    "        self.model.fit(s_batch, q_values_batch, verbose=0)\n",
    "\n",
    "    def update_batch(self, states, targets):\n",
    "        self.model.train_on_batch(states, targets)\n",
    "\n",
    "    def size(self):\n",
    "        return 0"
   ]
  },
  {
   "cell_type": "code",
   "execution_count": 4,
   "metadata": {},
   "outputs": [],
   "source": [
    "def print_info(n, i_episode, num_episodes, epsilon, sum_rew, Q=None, steps=None):\n",
    "    if(i_episode == 0): \n",
    "        print(str(i_episode),\" Starting learning running \",num_episodes,\" episodes plotting every \", int(n),\" episodes\")  \n",
    "        return \n",
    "    if(epsilon < 0):\n",
    "        print(i_episode,\"   Mean Reward: \",sum_rew)\n",
    "    else:\n",
    "        str_steps = \"\" if steps is None else \" Steps: \"+str(steps)\n",
    "        str_Q = \"\" if Q is None else \" Q states: \"+str(Q.size())\n",
    "        print(i_episode, \" epsilon: %.1f\"%epsilon, \"   Mean Reward: %.1f\"%sum_rew, str_steps, str_Q)\n"
   ]
  },
  {
   "cell_type": "code",
   "execution_count": 5,
   "metadata": {},
   "outputs": [],
   "source": [
    "def Q_learning(env, learning_rate=0.3, discount_factor=0.9, num_episodes=5000, num_episodes_end=4000, Q_function_class=Q_function):   \n",
    "    np.random.seed() \n",
    "    env.history = {\"episode_rew\":[], \"episode_steps\":[]}\n",
    "    Q =  Q_function_class(env)\n",
    "    mean_rew, mean_steps = 0, 0\n",
    "\n",
    "    for i_episode in range(num_episodes):\n",
    "        epsilon = max(1 - (1/num_episodes_end) * i_episode, 0)        \n",
    "        state = env.reset()\n",
    "        done = False\n",
    "        sum_reward, steps = 0, 0\n",
    "        while not done:\n",
    "            q_values = Q.predict(state)\n",
    "            if np.random.uniform() < epsilon:\n",
    "                action = np.random.randint(env.nactions)   # explore\n",
    "            else:\n",
    "                action = np.argmax(q_values)  # exploit\n",
    "\n",
    "            state_new, reward, done, _ = env.step(action)\n",
    "            sum_reward += reward\n",
    "            td_error = reward + discount_factor*np.max(Q.predict(state_new)) - q_values[action]\n",
    "            td_target = q_values[action] + learning_rate*td_error\n",
    "            Q.update(state,action,td_target)\n",
    "            state = state_new\n",
    "            steps += 1\n",
    "\n",
    "        env.history[\"episode_rew\"] += [sum_reward]\n",
    "        env.history[\"episode_steps\"] += [steps]\n",
    "        mean_rew += sum_reward\n",
    "        mean_steps += steps\n",
    "        \n",
    "        n = num_episodes / 50\n",
    "        if (i_episode+1) % n == 0:\n",
    "            print_info(n, i_episode, num_episodes, epsilon, mean_rew/n, steps=mean_steps/n, Q=Q)\n",
    "            mean_rew, mean_steps = 0, 0\n",
    "\n",
    "    env.close()\n",
    "    return Q "
   ]
  },
  {
   "cell_type": "code",
   "execution_count": 6,
   "metadata": {
    "scrolled": true
   },
   "outputs": [
    {
     "name": "stdout",
     "output_type": "stream",
     "text": [
      "Default number of agents: 1\n",
      "-allo-g-1ag Discrete Action Space with Discrete(4)\n"
     ]
    },
    {
     "data": {
      "image/png": "[encoded data removed]",
      "text/plain": [
       "<Figure size 432x288 with 1 Axes>"
      ]
     },
     "metadata": {
      "needs_background": "light"
     },
     "output_type": "display_data"
    }
   ],
   "source": [
    "conf = {\"name\": \"FinalGrid\", \"rows\": 5, \"cols\": 5,\n",
    "        \"food\": 8,\n",
    "        \"action_mode\": ACT_MODE.ALLOCENTRIC,\n",
    "        \"obs_mode\": OBS_MODE.GLOBAL,\n",
    "        \"term_mode\": \"empty\",\n",
    "        \"max_steps\": 50,\n",
    "        }\n",
    "\n",
    "env = Environment(conf)\n",
    "\n",
    "env.render()\n"
   ]
  },
  {
   "cell_type": "code",
   "execution_count": 7,
   "metadata": {},
   "outputs": [
    {
     "name": "stderr",
     "output_type": "stream",
     "text": [
      "Using TensorFlow backend.\n"
     ]
    },
    {
     "name": "stdout",
     "output_type": "stream",
     "text": [
      "DQN_function init  obs_space.shape (2, 5, 5)    used:  50\n",
      "WARNING:tensorflow:From /Users/marti/miniconda3/envs/insoco/lib/python3.6/site-packages/tensorflow_core/python/ops/resource_variable_ops.py:1630: calling BaseResourceVariable.__init__ (from tensorflow.python.ops.resource_variable_ops) with constraint is deprecated and will be removed in a future version.\n",
      "Instructions for updating:\n",
      "If using Keras pass *_constraint arguments to layers.\n",
      "Model: \"sequential_1\"\n",
      "_________________________________________________________________\n",
      "Layer (type)                 Output Shape              Param #   \n",
      "=================================================================\n",
      "dense_1 (Dense)              (None, 8)                 408       \n",
      "_________________________________________________________________\n",
      "dense_2 (Dense)              (None, 16)                144       \n",
      "_________________________________________________________________\n",
      "dense_3 (Dense)              (None, 4)                 68        \n",
      "=================================================================\n",
      "Total params: 620\n",
      "Trainable params: 620\n",
      "Non-trainable params: 0\n",
      "_________________________________________________________________\n",
      "WARNING:tensorflow:From /Users/marti/miniconda3/envs/insoco/lib/python3.6/site-packages/keras/backend/tensorflow_backend.py:422: The name tf.global_variables is deprecated. Please use tf.compat.v1.global_variables instead.\n",
      "\n",
      "199  epsilon: 1.0    Mean Reward: 4.4  Steps: 49.565  Q states: 0\n",
      "399  epsilon: 1.0    Mean Reward: 4.4  Steps: 49.5  Q states: 0\n",
      "599  epsilon: 0.9    Mean Reward: 4.5  Steps: 49.74  Q states: 0\n",
      "799  epsilon: 0.9    Mean Reward: 4.5  Steps: 49.84  Q states: 0\n",
      "999  epsilon: 0.9    Mean Reward: 4.8  Steps: 49.665  Q states: 0\n",
      "1199  epsilon: 0.9    Mean Reward: 4.9  Steps: 49.84  Q states: 0\n",
      "1399  epsilon: 0.8    Mean Reward: 5.0  Steps: 49.47  Q states: 0\n",
      "1599  epsilon: 0.8    Mean Reward: 5.2  Steps: 49.575  Q states: 0\n",
      "1799  epsilon: 0.8    Mean Reward: 5.1  Steps: 49.47  Q states: 0\n",
      "1999  epsilon: 0.8    Mean Reward: 5.1  Steps: 49.38  Q states: 0\n",
      "2199  epsilon: 0.8    Mean Reward: 5.1  Steps: 49.12  Q states: 0\n",
      "2399  epsilon: 0.7    Mean Reward: 5.3  Steps: 49.42  Q states: 0\n",
      "2599  epsilon: 0.7    Mean Reward: 5.4  Steps: 49.185  Q states: 0\n",
      "2799  epsilon: 0.7    Mean Reward: 5.5  Steps: 49.115  Q states: 0\n",
      "2999  epsilon: 0.7    Mean Reward: 5.6  Steps: 48.405  Q states: 0\n",
      "3199  epsilon: 0.6    Mean Reward: 5.6  Steps: 48.6  Q states: 0\n",
      "3399  epsilon: 0.6    Mean Reward: 5.6  Steps: 48.525  Q states: 0\n",
      "3599  epsilon: 0.6    Mean Reward: 5.7  Steps: 48.385  Q states: 0\n",
      "3799  epsilon: 0.6    Mean Reward: 5.8  Steps: 47.965  Q states: 0\n",
      "3999  epsilon: 0.6    Mean Reward: 5.8  Steps: 48.41  Q states: 0\n",
      "4199  epsilon: 0.5    Mean Reward: 5.6  Steps: 48.48  Q states: 0\n",
      "4399  epsilon: 0.5    Mean Reward: 5.6  Steps: 48.955  Q states: 0\n",
      "4599  epsilon: 0.5    Mean Reward: 5.8  Steps: 48.485  Q states: 0\n",
      "4799  epsilon: 0.5    Mean Reward: 5.7  Steps: 48.12  Q states: 0\n",
      "4999  epsilon: 0.4    Mean Reward: 5.6  Steps: 48.185  Q states: 0\n",
      "5199  epsilon: 0.4    Mean Reward: 5.5  Steps: 48.75  Q states: 0\n",
      "5399  epsilon: 0.4    Mean Reward: 5.9  Steps: 47.695  Q states: 0\n",
      "5599  epsilon: 0.4    Mean Reward: 5.7  Steps: 48.87  Q states: 0\n",
      "5799  epsilon: 0.4    Mean Reward: 6.0  Steps: 46.975  Q states: 0\n",
      "5999  epsilon: 0.3    Mean Reward: 5.4  Steps: 48.11  Q states: 0\n",
      "6199  epsilon: 0.3    Mean Reward: 5.5  Steps: 48.285  Q states: 0\n",
      "6399  epsilon: 0.3    Mean Reward: 5.8  Steps: 47.11  Q states: 0\n",
      "6599  epsilon: 0.3    Mean Reward: 5.3  Steps: 48.54  Q states: 0\n",
      "6799  epsilon: 0.2    Mean Reward: 5.5  Steps: 48.09  Q states: 0\n",
      "6999  epsilon: 0.2    Mean Reward: 5.1  Steps: 48.275  Q states: 0\n",
      "7199  epsilon: 0.2    Mean Reward: 5.4  Steps: 48.48  Q states: 0\n",
      "7399  epsilon: 0.2    Mean Reward: 5.3  Steps: 48.63  Q states: 0\n",
      "7599  epsilon: 0.2    Mean Reward: 5.5  Steps: 48.555  Q states: 0\n",
      "7799  epsilon: 0.1    Mean Reward: 5.5  Steps: 48.295  Q states: 0\n",
      "7999  epsilon: 0.1    Mean Reward: 5.5  Steps: 47.16  Q states: 0\n",
      "8199  epsilon: 0.1    Mean Reward: 5.5  Steps: 47.465  Q states: 0\n",
      "8399  epsilon: 0.1    Mean Reward: 5.1  Steps: 48.455  Q states: 0\n",
      "8599  epsilon: 0.0    Mean Reward: 5.2  Steps: 47.85  Q states: 0\n",
      "8799  epsilon: 0.0    Mean Reward: 5.4  Steps: 48.025  Q states: 0\n",
      "8999  epsilon: 0.0    Mean Reward: 6.1  Steps: 43.955  Q states: 0\n",
      "9199  epsilon: 0.0    Mean Reward: 6.0  Steps: 44.52  Q states: 0\n",
      "9399  epsilon: 0.0    Mean Reward: 5.9  Steps: 45.165  Q states: 0\n",
      "9599  epsilon: 0.0    Mean Reward: 6.1  Steps: 45.25  Q states: 0\n",
      "9799  epsilon: 0.0    Mean Reward: 6.3  Steps: 44.435  Q states: 0\n",
      "9999  epsilon: 0.0    Mean Reward: 6.1  Steps: 43.685  Q states: 0\n"
     ]
    }
   ],
   "source": [
    "params_qlearn = {\"learning_rate\":0.1, \"discount_factor\":0.95, \"num_episodes\":10000, \"num_episodes_end\":9000}\n",
    "q_func = Q_learning(env, **params_qlearn, Q_function_class=DQN_function)"
   ]
  }
 ],
 "metadata": {
  "kernelspec": {
   "display_name": "Python 3",
   "language": "python",
   "name": "python3"
  },
  "language_info": {
   "codemirror_mode": {
    "name": "ipython",
    "version": 3
   },
   "file_extension": ".py",
   "mimetype": "text/x-python",
   "name": "python",
   "nbconvert_exporter": "python",
   "pygments_lexer": "ipython3",
   "version": "3.6.13"
  }
 },
 "nbformat": 4,
 "nbformat_minor": 2
}
