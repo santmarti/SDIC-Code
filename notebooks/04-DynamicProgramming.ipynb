{
 "cells": [
  {
   "cell_type": "code",
   "execution_count": 1,
   "metadata": {},
   "outputs": [],
   "source": [
    "import matplotlib\n",
    "import matplotlib.pyplot as plt\n",
    "import numpy as np\n",
    "\n",
    "# For Colab uncomment the following lines:\n",
    "#!git clone https://github.com/santmarti/SDIC-Code.git\n",
    "#%cd SDIC-Code/notebooks\n",
    "\n",
    "from Environment import Environment"
   ]
  },
  {
   "cell_type": "markdown",
   "metadata": {},
   "source": [
    "### Policy Evaluation"
   ]
  },
  {
   "cell_type": "code",
   "execution_count": 2,
   "metadata": {},
   "outputs": [],
   "source": [
    "def policy_eval(policy, env, discount_factor=1.0, theta=0.01):\n",
    "    \"\"\"\n",
    "    Evaluate a policy given an environment and a full description of the environment's dynamics.\n",
    "    \n",
    "    Args:\n",
    "        policy: [S, A] shaped matrix representing the policy.\n",
    "        env: OpenAI env. env.P represents the transition probabilities of the environment.\n",
    "            env.P[s][a] is a list of transition tuples (prob, next_state, reward, done).\n",
    "            env.nS is a number of states in the environment. \n",
    "            env.nA is a number of actions in the environment.\n",
    "        theta: We stop evaluation once our value function change is less than theta for all states.\n",
    "        discount_factor: Gamma discount factor.\n",
    "    \n",
    "    Returns:\n",
    "        Vector of length env.nS representing the value function.\n",
    "    \"\"\"\n",
    "    V = np.zeros(env.nS)     # Start with a random (all 0) value function\n",
    "    while max(V) < 1e+100:\n",
    "        delta = 0\n",
    "        for s in range(env.nS):       # For each state, perform a \"full backup\"\n",
    "            v = 0\n",
    "            for a, action_prob in enumerate(policy[s]):                                     # Look at the possible next actions                \n",
    "                for  prob, next_state, reward, done in env.P[s][a]:                         # For each action, look at the possible next states...\n",
    "                    v += action_prob * prob * (reward + discount_factor * V[next_state])    # Calculate the expected value. Ref: Sutton book eq. 4.6.\n",
    "            delta = max(delta, np.abs(v - V[s]))                                            # How much our value function changed (across any states)\n",
    "            V[s] = v\n",
    "            \n",
    "        if delta < theta:    # Stop evaluating once our value function change is below a threshold\n",
    "            break\n",
    "\n",
    "    return np.array(V)"
   ]
  },
  {
   "cell_type": "markdown",
   "metadata": {},
   "source": [
    "##### Sutton Simple Stochastic World 2 States 2 Actions"
   ]
  },
  {
   "cell_type": "code",
   "execution_count": 3,
   "metadata": {},
   "outputs": [
    {
     "name": "stdout",
     "output_type": "stream",
     "text": [
      "Setting default max_steps per episode: 100000\n",
      "SuttonSimplest--1ag Discrete Action Space with Discrete(2)\n",
      "Random Policy Probability Distribution:\n",
      "[[0.5 0.5]\n",
      " [0.5 0.5]]\n",
      "\n",
      "Value Function Iterations:\n"
     ]
    }
   ],
   "source": [
    "env = Environment(\"SuttonSimplest\")\n",
    "random_policy = np.ones([env.nS, env.nA]) / env.nA\n",
    "print(\"Random Policy Probability Distribution:\")\n",
    "print(random_policy)\n",
    "print(\"\")\n",
    "print(\"Value Function Iterations:\")\n",
    "v = policy_eval(random_policy, env, discount_factor=0.85, theta=0.8)"
   ]
  },
  {
   "cell_type": "markdown",
   "metadata": {},
   "source": [
    "##### GridWorld Sutton evaluation of random policy"
   ]
  },
  {
   "cell_type": "code",
   "execution_count": 4,
   "metadata": {},
   "outputs": [
    {
     "name": "stdout",
     "output_type": "stream",
     "text": [
      "Setting default max_steps per episode: 100000\n",
      "GridworldSutton--1ag Discrete Action Space with Discrete(4)\n",
      "Reshaped Grid Value Function:\n",
      "[[ 0.         -5.04409655 -6.81018622 -7.30989047]\n",
      " [-5.04409655 -6.35168809 -6.92280952 -6.88129341]\n",
      " [-6.81018622 -6.92280952 -6.40858697 -5.13688443]\n",
      " [-7.30989047 -6.88129341 -5.13688443  0.        ]]\n"
     ]
    },
    {
     "data": {
      "text/plain": [
       "<matplotlib.colorbar.Colorbar at 0x7fc0c1dc0160>"
      ]
     },
     "execution_count": 4,
     "metadata": {},
     "output_type": "execute_result"
    },
    {
     "data": {
      "image/png": "[encoded data removed]",
      "text/plain": [
       "<Figure size 432x288 with 2 Axes>"
      ]
     },
     "metadata": {
      "needs_background": "light"
     },
     "output_type": "display_data"
    }
   ],
   "source": [
    "env = Environment(\"GridworldSutton\")\n",
    "random_policy = np.ones([env.nS, env.nA]) / env.nA\n",
    "v = policy_eval(random_policy, env, discount_factor=0.9, theta=0.1)\n",
    "\n",
    "print(\"Reshaped Grid Value Function:\")\n",
    "print(v.reshape(env.grid_shape))\n",
    "plt.pcolor(v.reshape(env.grid_shape))\n",
    "plt.colorbar()"
   ]
  },
  {
   "cell_type": "code",
   "execution_count": 5,
   "metadata": {},
   "outputs": [
    {
     "name": "stdout",
     "output_type": "stream",
     "text": [
      "Setting default max_steps per episode: 100000\n",
      "Initialized JackCarRental Environment : 10 max_cars 2 max_moving cars\n",
      "JackCarRental--1ag Discrete Action Space with Discrete(5)\n",
      "Reshaped Grid Value Function:\n"
     ]
    },
    {
     "data": {
      "text/plain": [
       "<matplotlib.colorbar.Colorbar at 0x7fc0c337d9e8>"
      ]
     },
     "execution_count": 5,
     "metadata": {},
     "output_type": "execute_result"
    },
    {
     "data": {
      "image/png": "[encoded data removed]",
      "text/plain": [
       "<Figure size 432x288 with 2 Axes>"
      ]
     },
     "metadata": {
      "needs_background": "light"
     },
     "output_type": "display_data"
    }
   ],
   "source": [
    "env = Environment(\"JackCarRental-10\")\n",
    "random_policy = np.ones([env.nS, env.nA]) / env.nA\n",
    "v = policy_eval(random_policy, env,  discount_factor=0.9, theta=0.1)\n",
    "\n",
    "print(\"Reshaped Grid Value Function:\")\n",
    "plt.pcolor(v.reshape(env.grid_shape))\n",
    "plt.colorbar()"
   ]
  },
  {
   "cell_type": "markdown",
   "metadata": {},
   "source": [
    "### Policy Iteration / Improvement"
   ]
  },
  {
   "cell_type": "code",
   "execution_count": 6,
   "metadata": {},
   "outputs": [],
   "source": [
    "def one_step_lookahead(state, V, env, discount_factor):\n",
    "    \"\"\"\n",
    "    Helper function to calculate the value for all action in a given state.\n",
    "    Args:  state, V value function vector of length env.nS, env, gamma\n",
    "    Returns: A vector of length env.nA containing the expected value of each action.\n",
    "    \"\"\"\n",
    "    A = np.zeros(env.nA)\n",
    "    for a in range(env.nA):\n",
    "        for prob, next_state, reward, done in env.P[state][a]:\n",
    "            A[a] += prob * (reward + discount_factor * V[next_state])\n",
    "    return A"
   ]
  },
  {
   "cell_type": "code",
   "execution_count": 7,
   "metadata": {},
   "outputs": [],
   "source": [
    "def policy_improvement(env, discount_factor=0.9, theta=0.1):\n",
    "    \"\"\"\n",
    "    Iteratively evaluates and improves a policy until an optimal policy is found.    \n",
    "    Args: env, discount_factor: gamma discount factor, theta threshold for policy eval\n",
    "    Returns:\n",
    "        A tuple (policy, V). \n",
    "        policy is the optimal policy, a matrix of shape [S, A] where each state s\n",
    "        contains a valid probability distribution over actions.\n",
    "        V is the value function for the optimal policy. \n",
    "    \"\"\"\n",
    "    policy = np.diag([env.nS, env.nA])          # We cannot start with a random policy (unless we use softmax)\n",
    "    policy_stable = False        \n",
    "    while not policy_stable:\n",
    "        policy_stable = True        \n",
    "        V = policy_eval(policy, env, discount_factor, theta=theta)     # Evaluate the current policy        \n",
    "        for s in range(env.nS):\n",
    "            chosen_a = np.argmax(policy[s])                     \n",
    "            A = one_step_lookahead(s, V, env, discount_factor)\n",
    "            best_a = np.argmax(A)            \n",
    "            if chosen_a != best_a:                                     # Greedily update the policy\n",
    "                policy_stable = False            \n",
    "            policy[s] = np.eye(env.nA)[best_a]\n",
    "                   \n",
    "        if policy_stable:                             # If the policy is stable is optimal \n",
    "            return policy, V"
   ]
  },
  {
   "cell_type": "code",
   "execution_count": 8,
   "metadata": {},
   "outputs": [
    {
     "name": "stdout",
     "output_type": "stream",
     "text": [
      "Setting default max_steps per episode: 100000\n",
      "SuttonSimplest--1ag Discrete Action Space with Discrete(2)\n",
      "Policy Probability Distribution:\n",
      "[[0 1]\n",
      " [1 0]]\n",
      "\n",
      "Value Function:\n",
      "[133.30877223 165.81454066]\n"
     ]
    }
   ],
   "source": [
    "env = Environment(\"SuttonSimplest\")\n",
    "policy, v = policy_improvement(env, discount_factor=0.9, theta=0.1)\n",
    "\n",
    "print(\"Policy Probability Distribution:\")\n",
    "print(policy)\n",
    "print(\"\")\n",
    "\n",
    "print(\"Value Function:\")\n",
    "print(v)"
   ]
  },
  {
   "cell_type": "markdown",
   "metadata": {},
   "source": [
    "### Value Iteration"
   ]
  },
  {
   "cell_type": "code",
   "execution_count": 9,
   "metadata": {},
   "outputs": [],
   "source": [
    "def value_iteration(env, theta=0.0001, discount_factor=1.0):\n",
    "    \"\"\"\n",
    "    Value Iteration Algorithm.   \n",
    "    Args:\n",
    "        env: OpenAI env. env.P represents the transition probabilities of the environment.\n",
    "            env.P[s][a] is a list of transition tuples (prob, next_state, reward, done).\n",
    "            env.nS is a number of states in the environment. \n",
    "            env.nA is a number of actions in the environment.\n",
    "        theta: We stop evaluation once our value function change is less than theta for all states.\n",
    "        discount_factor: Gamma discount factor.        \n",
    "    Returns:\n",
    "        A tuple (policy, V) of the optimal policy and the optimal value function.\n",
    "    \"\"\"\n",
    "    V = np.zeros(env.nS)\n",
    "    while True:        \n",
    "        delta = 0\n",
    "        for s in range(env.nS):             # Update each state...   \n",
    "            A = one_step_lookahead(s, V, env, discount_factor)    # Do a one-step lookahead to find the best action\n",
    "            best_action_value = np.max(A)\n",
    "            delta = max(delta, np.abs(best_action_value - V[s]))   # Calculate delta across all states seen so far\n",
    "            V[s] = best_action_value                               # Update the value function. Ref: Sutton book eq. 4.10. \n",
    "         \n",
    "        if delta < theta:      # Check if we can stop\n",
    "            break\n",
    "    \n",
    "    policy = np.zeros([env.nS, env.nA])  # Create a deterministic policy using the optimal value function \n",
    "    for s in range(env.nS):\n",
    "        A = one_step_lookahead(s, V, env, discount_factor)     # One step lookahead to find the best action for this state\n",
    "        best_action = np.argmax(A)\n",
    "        policy[s, best_action] = 1.0     # Always take the best action\n",
    "    \n",
    "    return policy, V"
   ]
  },
  {
   "cell_type": "markdown",
   "metadata": {},
   "source": [
    "##### Sutton Simple Stochastic World 2 States 2 Actions"
   ]
  },
  {
   "cell_type": "code",
   "execution_count": 12,
   "metadata": {},
   "outputs": [
    {
     "name": "stdout",
     "output_type": "stream",
     "text": [
      "Setting default max_steps per episode: 100000\n",
      "SuttonSimplest--1ag Discrete Action Space with Discrete(2)\n",
      "Policy Probability Distribution:\n",
      "What to do in 0: [0. 1.] What to do in 1: [1. 0.]\n",
      "\n",
      "Value Function:\n",
      "[133.76578567 166.23335559]\n"
     ]
    }
   ],
   "source": [
    "env = Environment(\"SuttonSimplest\")\n",
    "policy, v = value_iteration(env, discount_factor=0.9)\n",
    "\n",
    "print(\"Policy Probability Distribution:\")\n",
    "print(\"What to do in 0:\", policy[0], \"What to do in 1:\", policy[1])\n",
    "print(\"\")\n",
    "\n",
    "print(\"Value Function:\")\n",
    "print(v)"
   ]
  }
 ],
 "metadata": {
  "kernelspec": {
   "display_name": "Python 3",
   "language": "python",
   "name": "python3"
  },
  "language_info": {
   "codemirror_mode": {
    "name": "ipython",
    "version": 3
   },
   "file_extension": ".py",
   "mimetype": "text/x-python",
   "name": "python",
   "nbconvert_exporter": "python",
   "pygments_lexer": "ipython3",
   "version": "3.6.13"
  }
 },
 "nbformat": 4,
 "nbformat_minor": 2
}
