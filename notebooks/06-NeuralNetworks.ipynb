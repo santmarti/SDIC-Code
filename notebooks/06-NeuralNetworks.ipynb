{
 "cells": [
  {
   "cell_type": "code",
   "execution_count": 1,
   "metadata": {
    "scrolled": true
   },
   "outputs": [],
   "source": [
    "import random\n",
    "import numpy as np\n",
    "import matplotlib\n",
    "import matplotlib.pyplot as plt\n",
    "\n",
    "from Plotting import plot"
   ]
  },
  {
   "cell_type": "markdown",
   "metadata": {},
   "source": [
    "### Learning simplest test: learn to multiply by 2"
   ]
  },
  {
   "cell_type": "code",
   "execution_count": 2,
   "metadata": {},
   "outputs": [
    {
     "name": "stdout",
     "output_type": "stream",
     "text": [
      "input: [0 1 2 3 4 5 6 7 8 9]\n",
      "target: [ 0  2  4  6  8 10 12 14 16 18]\n"
     ]
    }
   ],
   "source": [
    "x,y = np.arange(10), 2*np.arange(10)\n",
    "print(\"input:\",x)\n",
    "print(\"target:\", y)\n",
    "w = -3.0                 # initialize the weight \n",
    "alpha = 0.01             # learning rate"
   ]
  },
  {
   "cell_type": "code",
   "execution_count": 3,
   "metadata": {},
   "outputs": [
    {
     "name": "stdout",
     "output_type": "stream",
     "text": [
      "Current w: -2.6   Error: 1354.2399999999998\n"
     ]
    }
   ],
   "source": [
    "i = np.random.randint(len(x))        # choose i.i.d training sample \n",
    "w += alpha*(y[i]-w*x[i])             # w = w + alpha*error  \n",
    "error = np.sum(np.power(x[i]*w - y[i],2))\n",
    "print(\"Current w:\", w, \"  Error:\", error)"
   ]
  },
  {
   "cell_type": "markdown",
   "metadata": {},
   "source": [
    "#### Test Phase: Samples not in the training set!"
   ]
  },
  {
   "cell_type": "code",
   "execution_count": 4,
   "metadata": {},
   "outputs": [
    {
     "name": "stdout",
     "output_type": "stream",
     "text": [
      "Test Set [2.44777216 8.03744453 6.91245668 4.33787506 3.41243124]\n",
      "Error on test set:  3149.369919239575\n"
     ]
    }
   ],
   "source": [
    "x = np.random.uniform(10,size=5)\n",
    "y = 2*x                                 # usually DataSet is divided between training set and test set\n",
    "print(\"Test Set\", x)\n",
    "error = np.sum(np.power(y-x*w,2))\n",
    "print(\"Error on test set: \", error)"
   ]
  },
  {
   "cell_type": "markdown",
   "metadata": {},
   "source": [
    "### Learning simplest test with biass: learn to multiply and sum"
   ]
  },
  {
   "cell_type": "code",
   "execution_count": 5,
   "metadata": {},
   "outputs": [
    {
     "name": "stdout",
     "output_type": "stream",
     "text": [
      "input: [0 1 2 3 4 5 6 7 8 9]\n",
      "target: [ 1  3  5  7  9 11 13 15 17 19]\n"
     ]
    }
   ],
   "source": [
    "x = np.arange(10)\n",
    "y = 2*x+1\n",
    "w = -3.0 \n",
    "alpha = 0.01\n",
    "print(\"input:\",x)\n",
    "print(\"target:\", y)"
   ]
  },
  {
   "cell_type": "code",
   "execution_count": 6,
   "metadata": {},
   "outputs": [
    {
     "name": "stdout",
     "output_type": "stream",
     "text": [
      "Current w: -2.59   Error: 6427.5085\n"
     ]
    }
   ],
   "source": [
    "# with only one weight we cannot learn biass\n",
    "i = np.random.randint(len(x))     # choose i.i.d sample \n",
    "w += alpha*(y[i]-w*x[i])          # w = w + alpha*error    \n",
    "error = np.sum(np.power(x*w - y,2))\n",
    "print(\"Current w:\", w, \"  Error:\", error)"
   ]
  },
  {
   "cell_type": "code",
   "execution_count": 7,
   "metadata": {},
   "outputs": [
    {
     "data": {
      "text/plain": [
       "<AxesSubplot:xlabel='Updates', ylabel='Error'>"
      ]
     },
     "execution_count": 7,
     "metadata": {},
     "output_type": "execute_result"
    },
    {
     "data": {
      "image/png": "[encoded data removed]",
      "text/plain": [
       "<Figure size 432x288 with 1 Axes>"
      ]
     },
     "metadata": {
      "needs_background": "light"
     },
     "output_type": "display_data"
    }
   ],
   "source": [
    "x = np.arange(10)   # training dataset\n",
    "y = 2*x+1\n",
    "\n",
    "w = [0.1, 3.3]  # w0 = the weight, w1 = bias  \n",
    "alpha = 0.01\n",
    "\n",
    "def f(x,w):\n",
    "    return w[0]*x + w[1]   # output computation\n",
    "\n",
    "gsteps, error, errors = 0, 1000, []\n",
    "while gsteps < 500 and error > 0.005:\n",
    "    i = np.random.randint(len(x))               # choose random training sample: must be i.i.d. \n",
    "    w[0] += alpha*(y[i]-f(x[i],w))*x[i]         # the error in the direction of the derivative of the output wrt w[1] -> x\n",
    "    w[1] += alpha*(y[i]-f(x[i],w))      \n",
    "    error = np.sum(np.power(y - f(x,w),2))      # the MSE\n",
    "    errors += [error]\n",
    "    gsteps += 1\n",
    "    \n",
    "plot(errors, ylim=[0,50])"
   ]
  },
  {
   "cell_type": "markdown",
   "metadata": {},
   "source": [
    "### Learning logic gates (the \"and\" gate)"
   ]
  },
  {
   "cell_type": "code",
   "execution_count": 8,
   "metadata": {},
   "outputs": [
    {
     "name": "stdout",
     "output_type": "stream",
     "text": [
      "After learning: [0,0]->0.000000, [1,0]->1.000000, [0,1]->1.000000, [1,1]->1.000000\n"
     ]
    }
   ],
   "source": [
    "# lets consider three weights (plus biass)\n",
    "w = [0.01, -.01, .02]  \n",
    "alpha = 0.01\n",
    "x = [[0,0], [1,0], [0,1], [1,1]]  \n",
    "y = [0, 1, 1, 1]                     # AND gate\n",
    "\n",
    "def a(x):\n",
    "    return 0 if x < 0 else 1\n",
    "def f(x,w):\n",
    "    return a(w[0]*x[0] + w[1]*x[1] + w[2])   # output computation\n",
    "\n",
    "gsteps, error = 0, 1000000\n",
    "while gsteps < 500:\n",
    "    i = np.random.randint(len(x))               \n",
    "    w[0] += alpha*(y[i]-f(x[i],w))*x[i][0]         \n",
    "    w[1] += alpha*(y[i]-f(x[i],w))*x[i][1]       \n",
    "    w[2] += alpha*(y[i]-f(x[i],w))      \n",
    "    error = np.sum(np.power(y[i]-f(x[i],w),2))\n",
    "    gsteps += 1\n",
    "    \n",
    "print(\"After learning: [0,0]->%f, [1,0]->%f, [0,1]->%f, [1,1]->%f\"%(f([0,0],w),f([1,0],w),f([0,1],w),f([1,1],w))) "
   ]
  },
  {
   "cell_type": "markdown",
   "metadata": {},
   "source": [
    "## Introducing two layer networks (from scratch)\n",
    "Here two nice web links explaining backprop: <BR>\n",
    "<a href=\"https://mattmazur.com/2015/03/17/a-step-by-step-backpropagation-example/\">Tutorial with two outputs</a> <BR>\n",
    "<a href=\"https://medium.com/analytics-vidhya/coding-a-neural-network-for-xor-logic-classifier-from-scratch-b90543648e8a\"> XOR from scratch </a>"
   ]
  },
  {
   "cell_type": "code",
   "execution_count": 9,
   "metadata": {},
   "outputs": [
    {
     "name": "stdout",
     "output_type": "stream",
     "text": [
      "Final outputs are [0. 1. 1. 0.]\n"
     ]
    },
    {
     "data": {
      "image/png": "[encoded data removed]",
      "text/plain": [
       "<Figure size 432x288 with 1 Axes>"
      ]
     },
     "metadata": {
      "needs_background": "light"
     },
     "output_type": "display_data"
    }
   ],
   "source": [
    "X = np.array([[0,0,1,1],[0,1,0,1]])\n",
    "Y = np.array([[0, 1, 1, 0]]) \n",
    "n_xin, n_train = X.shape[0], X.shape[1]\n",
    "n_hidden, n_yout = 2, 1\n",
    "\n",
    "np.random.seed(10)\n",
    "W1 = np.random.rand(n_hidden,n_xin)    # Weight matrix for hidden layer\n",
    "W2 = np.random.rand(n_yout,n_hidden)   # Weight matrix for output layer\n",
    "\n",
    "def a(x):\n",
    "    return 1/(1+np.exp(-x))\n",
    "\n",
    "def forward(w1,w2,x):\n",
    "    z1 = np.dot(w1,x)\n",
    "    o1 = a(z1)    \n",
    "    z2 = np.dot(w2,o1)\n",
    "    o2 = a(z2)\n",
    "    return [z1,o1,z2,o2]\n",
    "\n",
    "def backprop(x,y,w1,w2):\n",
    "    z1,o1,z2,o2 = forward(w1,w2,x)\n",
    "    n = x.shape[1]\n",
    "    dz2 = o2-y\n",
    "    dw2 = np.dot(dz2,o1.T)/n\n",
    "    dz1 = np.dot(w2.T,dz2)*o1*(1-o1)\n",
    "    dw1 = np.dot(dz1,x.T)/n\n",
    "    dw1 = np.reshape(dw1,w1.shape)\n",
    "    dw2 = np.reshape(dw2,w2.shape)    \n",
    "    return [dw1,dw2]\n",
    "\n",
    "alpha = 0.1\n",
    "NSTEPS, steps, error, errors = 50000, 0, 10000, []\n",
    "while steps < NSTEPS and error > 0.01:\n",
    "    dW1,dW2 = backprop(X,Y,W1,W2)\n",
    "    W1 -= alpha*dW1\n",
    "    W2 -= alpha*dW2\n",
    "    steps += 1\n",
    "    _,_,_,out = forward(W1,W2,X)\n",
    "    error = (1/n_train)*np.sum((Y - out)**2)\n",
    "    errors += [error]\n",
    "\n",
    "plot(errors, ylim=[0,.3])\n",
    "\n",
    "_,_,_,out = forward(W1,W2,X)\n",
    "out[out<.5] = 0\n",
    "out[out>=.5] = 1\n",
    "print(\"Final outputs are\", out[0])"
   ]
  },
  {
   "cell_type": "markdown",
   "metadata": {},
   "source": [
    "## Introducing one layer Neural Network in keras"
   ]
  },
  {
   "cell_type": "code",
   "execution_count": 10,
   "metadata": {},
   "outputs": [
    {
     "name": "stderr",
     "output_type": "stream",
     "text": [
      "Using TensorFlow backend.\n"
     ]
    }
   ],
   "source": [
    "from keras.models import Sequential\n",
    "from keras.optimizers import Adam\n",
    "from keras.layers import Dense, LSTM\n",
    "import os                    # remove Deprecation Warnings\n",
    "import tensorflow as tf\n",
    "from tensorflow.python.util import deprecation\n",
    "os.environ['TF_CPP_MIN_LOG_LEVEL'] = '3'\n",
    "deprecation._PRINT_DEPRECATION_WARNINGS = False\n",
    "tf.compat.v1.logging.set_verbosity(tf.compat.v1.logging.ERROR)\n",
    "\n",
    "\n",
    "class Perceptron_function():\n",
    "    \n",
    "    def __init__(self, inputs=2, outputs=1):\n",
    "        self.inputs, self.outputs = inputs, outputs\n",
    "        self.learning_rate = 0.001        \n",
    "        self.model = Sequential(name=\"PerceptronNetwork\")\n",
    "        self.model.add(Dense(outputs, input_shape=(inputs,), activation=\"linear\", kernel_initializer='random_uniform'))        \n",
    "        self.model.compile(loss=\"mse\", optimizer=Adam(lr=self.learning_rate))\n",
    "        self.model.summary()\n",
    "\n",
    "    def predict(self, s):\n",
    "        s = s.flatten()         # we can discard input dimension\n",
    "        s_batch = np.reshape(s, [1, s.shape[0]])\n",
    "        return self.model.predict(s_batch)[0][0]\n",
    "\n",
    "    def update(self, inputs, targets):\n",
    "        inputs = inputs.flatten()\n",
    "        inputs_batch = np.reshape(inputs, [1, inputs.shape[0]])\n",
    "        targets_batch = np.array([targets])\n",
    "        self.model.train_on_batch(inputs_batch, targets_batch)\n",
    "\n",
    "    def update_batch(self, inputs, targets):\n",
    "        self.model.train_on_batch(inputs, targets)\n",
    "        \n",
    "    def print_weights(self):\n",
    "        w = self.model.get_weights()\n",
    "        print(\"Network weights   w:\",w[0].flatten(), \"b:\",w[1])"
   ]
  },
  {
   "cell_type": "markdown",
   "metadata": {},
   "source": [
    "### Learn logic gates"
   ]
  },
  {
   "cell_type": "code",
   "execution_count": 11,
   "metadata": {},
   "outputs": [
    {
     "name": "stdout",
     "output_type": "stream",
     "text": [
      "Model: \"PerceptronNetwork\"\n",
      "_________________________________________________________________\n",
      "Layer (type)                 Output Shape              Param #   \n",
      "=================================================================\n",
      "dense_1 (Dense)              (None, 1)                 3         \n",
      "=================================================================\n",
      "Total params: 3\n",
      "Trainable params: 3\n",
      "Non-trainable params: 0\n",
      "_________________________________________________________________\n",
      "Network weights   w: [ 0.00303506 -0.00584241] b: [0.]\n"
     ]
    }
   ],
   "source": [
    "def gen_input(igate=0):\n",
    "    or_gate = {(0,0):0, (0,1):1, (1,0):1, (1,1):1}\n",
    "    and_gate = {(0,0):0, (0,1):0, (1,0):0, (1,1):1}\n",
    "    xor_gate = {(0,0):0, (0,1):1, (1,0):1, (1,1):0}\n",
    "    \n",
    "    if igate == 0: gate = or_gate\n",
    "    elif igate == 1: gate = and_gate\n",
    "    else: gate = xor_gate\n",
    "    \n",
    "    key = random.sample(list(gate.keys()),1)[0]\n",
    "    s = np.array(key) \n",
    "    y = gate[key]\n",
    "    return s,y\n",
    "\n",
    "perceptron = Perceptron_function(inputs=2)\n",
    "perceptron.print_weights()"
   ]
  },
  {
   "cell_type": "markdown",
   "metadata": {},
   "source": [
    "###### And Train"
   ]
  },
  {
   "cell_type": "code",
   "execution_count": 12,
   "metadata": {},
   "outputs": [
    {
     "name": "stdout",
     "output_type": "stream",
     "text": [
      "Network weights   w: [0.50033045 0.4772395 ] b: [0.24462542]\n",
      "\n",
      "Test:\n",
      "-----\n",
      "x: [1 1] target 1 predicted output: 1.2221954\n",
      "x: [1 0] target 1 predicted output: 0.7449559\n",
      "x: [0 0] target 0 predicted output: 0.24462542\n",
      "x: [1 1] target 1 predicted output: 1.2221954\n",
      "x: [0 0] target 0 predicted output: 0.24462542\n",
      "x: [1 0] target 1 predicted output: 0.7449559\n",
      "x: [0 0] target 0 predicted output: 0.24462542\n",
      "x: [1 0] target 1 predicted output: 0.7449559\n",
      "x: [1 1] target 1 predicted output: 1.2221954\n",
      "x: [0 1] target 1 predicted output: 0.72186494\n",
      "\n",
      "MSE error = 0.6001387525017448\n"
     ]
    }
   ],
   "source": [
    "igate = 0 # OR Gate\n",
    "for _ in range(5000):          # train the network with input-output pairs\n",
    "    s,y = gen_input(igate)\n",
    "    perceptron.update(s, y)\n",
    "\n",
    "perceptron.print_weights()\n",
    "print(\"\\nTest:\\n-----\")\n",
    "error = 0\n",
    "for _ in range(10):          # test the network with mean squared error (MSE)\n",
    "    s,y = gen_input(igate)\n",
    "    print(\"x:\",s,\"target\", y, \"predicted output:\", perceptron.predict(s))\n",
    "    error += np.power(perceptron.predict(s)-y,2)  # MSE\n",
    "    \n",
    "print(\"\\nMSE error =\", error)"
   ]
  },
  {
   "cell_type": "markdown",
   "metadata": {},
   "source": [
    "### Multi Layer NN with keras"
   ]
  },
  {
   "cell_type": "code",
   "execution_count": 13,
   "metadata": {},
   "outputs": [],
   "source": [
    "class NN_function():\n",
    "    \n",
    "    def __init__(self, inputs=4, outputs=1):\n",
    "        self.inputs, self.outputs = inputs, outputs\n",
    "        self.model = Sequential(name=\"NN\")\n",
    "        self.model.add(Dense(8, input_shape=(inputs,), activation=\"relu\"))\n",
    "        self.model.add(Dense(16, activation=\"relu\"))\n",
    "        self.model.add(Dense(outputs, activation=\"linear\"))\n",
    "\n",
    "        self.learning_rate = 0.01        \n",
    "        self.model.compile(loss=\"mse\", optimizer=Adam(lr=self.learning_rate))\n",
    "        self.model.summary()\n",
    "\n",
    "    def predict(self, s):\n",
    "        s = s.flatten()         # we can discard input dimension\n",
    "        s_batch = np.reshape(s, [1, s.shape[0]])\n",
    "        return self.model.predict(s_batch)[0][0]\n",
    "\n",
    "    def update(self, inputs, targets):\n",
    "        inputs = inputs.flatten()\n",
    "        inputs_batch = np.reshape(inputs, [1, inputs.shape[0]])\n",
    "        targets_batch = np.array([targets])\n",
    "        self.model.train_on_batch(inputs_batch, targets_batch)\n",
    "    \n",
    "    def update_batch(self, inputs, targets):\n",
    "        self.model.train_on_batch(inputs, targets)\n",
    "        \n",
    "    def print_weights(self):\n",
    "        w = self.model.get_weights()\n",
    "        print(\"w:\",w[0].flatten(), \"b:\",w[1])"
   ]
  },
  {
   "cell_type": "markdown",
   "metadata": {},
   "source": [
    "##### Learn logic gates"
   ]
  },
  {
   "cell_type": "code",
   "execution_count": 14,
   "metadata": {},
   "outputs": [
    {
     "name": "stdout",
     "output_type": "stream",
     "text": [
      "Model: \"NN\"\n",
      "_________________________________________________________________\n",
      "Layer (type)                 Output Shape              Param #   \n",
      "=================================================================\n",
      "dense_2 (Dense)              (None, 8)                 24        \n",
      "_________________________________________________________________\n",
      "dense_3 (Dense)              (None, 16)                144       \n",
      "_________________________________________________________________\n",
      "dense_4 (Dense)              (None, 1)                 17        \n",
      "=================================================================\n",
      "Total params: 185\n",
      "Trainable params: 185\n",
      "Non-trainable params: 0\n",
      "_________________________________________________________________\n",
      "w: [-0.70318806 -0.1731877   0.5222439   0.4010969  -0.63883567  0.78610724\n",
      " -0.02777015  0.4988691  -0.48528528  0.5402242   0.48472354 -0.58389884\n",
      " -0.24778134 -0.51008385 -0.5973641   0.20710121] b: [ 0.          0.01605043 -0.03233239  0.0681697   0.         -0.02976158\n",
      " -0.0514032  -0.21229683]\n",
      "\n",
      "Test:\n",
      "-----\n",
      "[0 1] 1 1.0\n",
      "[0 1] 1 1.0\n",
      "[1 0] 1 1.0\n",
      "[1 1] 0 0.0\n",
      "[1 0] 1 1.0\n",
      "[0 0] 0 0.0\n",
      "[1 1] 0 0.0\n",
      "[0 0] 0 0.0\n",
      "[1 1] 0 0.0\n",
      "[1 0] 1 1.0\n",
      "\n",
      "MSE error = 0.0\n"
     ]
    }
   ],
   "source": [
    "# Exercise: Train using NN_function (not the perceptron) all logic gates\n",
    "f_nn = NN_function(2,1)\n",
    "\n",
    "igate = 2 # XOR Gate\n",
    "for _ in range(5000):          # train the network with input-output pairs\n",
    "    s,y = gen_input(igate)\n",
    "    f_nn.update(s, y)\n",
    "\n",
    "f_nn.print_weights()\n",
    "print(\"\\nTest:\\n-----\")\n",
    "error = 0\n",
    "for _ in range(10):          # test the network with mean squared error (MSE)\n",
    "    s,y = gen_input(igate)\n",
    "    print(s,y,f_nn.predict(s))\n",
    "    error += np.power(f_nn.predict(s)-y,2)  # MSE\n",
    "    \n",
    "print(\"\\nMSE error =\", error)"
   ]
  },
  {
   "cell_type": "markdown",
   "metadata": {},
   "source": [
    "### Train a Neural Network to Sum \n",
    "$f(x=[...]) = \\sum_{i \\in x}{i}$"
   ]
  },
  {
   "cell_type": "code",
   "execution_count": 15,
   "metadata": {},
   "outputs": [],
   "source": [
    "# Exercise: Make a NN (use NN_function) learn to sum 4 input numbers "
   ]
  },
  {
   "cell_type": "markdown",
   "metadata": {},
   "source": [
    "### Define an LSTM Network "
   ]
  },
  {
   "cell_type": "code",
   "execution_count": 16,
   "metadata": {},
   "outputs": [],
   "source": [
    "class LSTM_function():\n",
    "    \n",
    "    def __init__(self, inputs=4, outputs=1, steps=10):\n",
    "        self.inputs, self.outputs = inputs, outputs\n",
    "        self.model = Sequential(name=\"LSTM_network\")\n",
    "        self.model.add(LSTM(steps, activation='relu', input_shape=(steps, inputs), return_sequences=False, stateful=False))\n",
    "        self.model.add(Dense(16, activation=\"relu\"))\n",
    "        self.model.add(Dense(outputs, activation='linear'))\n",
    "        \n",
    "        self.learning_rate = 0.001        \n",
    "        self.model.compile(loss=\"mse\", optimizer=Adam(lr=self.learning_rate))\n",
    "        self.model.summary()\n",
    "\n",
    "    def predict(self, s):\n",
    "        s_batch = np.reshape(s, [1]+list(s.shape))\n",
    "        return self.model.predict(s_batch)[0][0]\n",
    "\n",
    "    def update(self, s, y):\n",
    "        s_batch = np.reshape(s, [1]+list(s.shape))\n",
    "        y_batch = np.reshape(np.array([y]), [1, self.outputs])\n",
    "        self.model.fit(s_batch, y_batch, verbose=0)\n",
    "\n",
    "    def update_batch(self, inputs, targets):\n",
    "        self.model.train_on_batch(inputs, targets)"
   ]
  },
  {
   "cell_type": "markdown",
   "metadata": {},
   "source": [
    "### Train an LSTM Network to predict the sin function\n",
    "$f([sin(x_{t-4}),...,sin(x_{t-1})])=sin(x_t)$"
   ]
  },
  {
   "cell_type": "code",
   "execution_count": 17,
   "metadata": {},
   "outputs": [
    {
     "name": "stdout",
     "output_type": "stream",
     "text": [
      "Model: \"NN\"\n",
      "_________________________________________________________________\n",
      "Layer (type)                 Output Shape              Param #   \n",
      "=================================================================\n",
      "dense_5 (Dense)              (None, 8)                 128       \n",
      "_________________________________________________________________\n",
      "dense_6 (Dense)              (None, 16)                144       \n",
      "_________________________________________________________________\n",
      "dense_7 (Dense)              (None, 1)                 17        \n",
      "=================================================================\n",
      "Total params: 289\n",
      "Trainable params: 289\n",
      "Non-trainable params: 0\n",
      "_________________________________________________________________\n",
      "Model: \"LSTM_network\"\n",
      "_________________________________________________________________\n",
      "Layer (type)                 Output Shape              Param #   \n",
      "=================================================================\n",
      "lstm_1 (LSTM)                (None, 15)                1020      \n",
      "_________________________________________________________________\n",
      "dense_8 (Dense)              (None, 16)                256       \n",
      "_________________________________________________________________\n",
      "dense_9 (Dense)              (None, 1)                 17        \n",
      "=================================================================\n",
      "Total params: 1,293\n",
      "Trainable params: 1,293\n",
      "Non-trainable params: 0\n",
      "_________________________________________________________________\n",
      "MSE errors (NN,LSTM) = 7.6411663688243125 2.1002892258546564\n"
     ]
    }
   ],
   "source": [
    "def gen_input_sum(nsteps):\n",
    "    x_ini = np.random.rand()\n",
    "    x_step = np.random.rand()\n",
    "    sin_seq = [np.sin(x_ini+i*x_step)  for i in range(nsteps+1)]\n",
    "    s = np.array(sin_seq[:-1]) \n",
    "    s = s[:, np.newaxis]         # array (N,) needs conversion to row vector\n",
    "    y = sin_seq[-1]  \n",
    "    return np.array(s),y\n",
    "\n",
    "nsteps = 15\n",
    "f_nn = NN_function(inputs=nsteps, outputs=1)\n",
    "f_lstm = LSTM_function(inputs=1, outputs=1, steps=nsteps)\n",
    "\n",
    "n = 1000\n",
    "for _ in range(n):            # train the network with input-output pairs\n",
    "    s,y = gen_input_sum(nsteps)\n",
    "    f_nn.update(s, y)\n",
    "    f_lstm.update(s, y)\n",
    "\n",
    "error, error_lstm = 0, 0\n",
    "for _ in range(int(n/10)):         # test the network with mean squared error (MSE)\n",
    "    s,y = gen_input_sum(nsteps)    \n",
    "    error += np.power(f_nn.predict(s)-y,2)  # MSE\n",
    "    error_lstm += np.power(f_lstm.predict(s)-y,2)  # MSE\n",
    "    \n",
    "print(\"MSE errors (NN,LSTM) =\", error, error_lstm)"
   ]
  }
 ],
 "metadata": {
  "kernelspec": {
   "display_name": "Python 3 (ipykernel)",
   "language": "python",
   "name": "python3"
  },
  "language_info": {
   "codemirror_mode": {
    "name": "ipython",
    "version": 3
   },
   "file_extension": ".py",
   "mimetype": "text/x-python",
   "name": "python",
   "nbconvert_exporter": "python",
   "pygments_lexer": "ipython3",
   "version": "3.7.11"
  }
 },
 "nbformat": 4,
 "nbformat_minor": 2
}
